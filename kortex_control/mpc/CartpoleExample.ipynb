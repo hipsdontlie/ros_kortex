{
 "cells": [
  {
   "cell_type": "code",
   "execution_count": 1,
   "id": "27141271",
   "metadata": {},
   "outputs": [
    {
     "name": "stderr",
     "output_type": "stream",
     "text": [
      "\u001b[32m\u001b[1m  Activating\u001b[22m\u001b[39m environment at `~/Documents/16681_MRSD_Proj_1/Arthur/src/Project.toml`\n"
     ]
    }
   ],
   "source": [
    "import Pkg; Pkg.activate(@__DIR__); Pkg.instantiate();\n",
    "using TrajectoryOptimization\n",
    "using RobotDynamics\n",
    "import RobotZoo.Cartpole\n",
    "using StaticArrays, LinearAlgebra"
   ]
  },
  {
   "cell_type": "code",
   "execution_count": 2,
   "id": "c9eaf8fd",
   "metadata": {},
   "outputs": [
    {
     "data": {
      "text/plain": [
       "(4, 1)"
      ]
     },
     "execution_count": 2,
     "metadata": {},
     "output_type": "execute_result"
    }
   ],
   "source": [
    "model = Cartpole()\n",
    "n,m = size(model)"
   ]
  },
  {
   "cell_type": "code",
   "execution_count": null,
   "id": "d733cf1b",
   "metadata": {},
   "outputs": [],
   "source": [
    "using RobotDynamics\n",
    "using StaticArrays\n",
    "using ModelConstructors"
   ]
  },
  {
   "cell_type": "code",
   "execution_count": null,
   "id": "e70cdae1",
   "metadata": {},
   "outputs": [],
   "source": [
    "# Define the model struct with parameters\n",
    "struct Cartpole{T} <: AbstractModel{T}\n",
    "    mc::T\n",
    "    mp::T\n",
    "    l::T\n",
    "    g::T\n",
    "end"
   ]
  },
  {
   "cell_type": "code",
   "execution_count": null,
   "id": "bdaf1dcb",
   "metadata": {},
   "outputs": [],
   "source": [
    "Cartpole() = Cartpole(1.0, 0.2, 0.5, 9.81)\n",
    "\n",
    "# Define the continuous dynamics\n",
    "function RobotDynamics.dynamics(model::Cartpole, x, u)\n",
    "    mc = model.mc  # mass of the cart in kg (10)\n",
    "    mp = model.mp   # mass of the pole (point mass at the end) in kg\n",
    "    l = model.l   # length of the pole in m\n",
    "    g = model.g  # gravity m/s^2\n",
    "\n",
    "    q = x[ @SVector [1,2] ]\n",
    "    qd = x[ @SVector [3,4] ]\n",
    "\n",
    "    s = sin(q[2])\n",
    "    c = cos(q[2])\n",
    "\n",
    "    H = @SMatrix [mc+mp mp*l*c; mp*l*c mp*l^2]\n",
    "    C = @SMatrix [0 -mp*qd[2]*l*s; 0 0]\n",
    "    G = @SVector [0, mp*g*l*s]\n",
    "    B = @SVector [1, 0]\n",
    "\n",
    "    qdd = -H\\(C*qd + G - B*u[1])\n",
    "    return [qd; qdd]\n",
    "end\n",
    "\n",
    "# Specify the state and control dimensions\n",
    "RobotDynamics.state_dim(::Cartpole) = 4\n",
    "RobotDynamics.control_dim(::Cartpole) = 1"
   ]
  },
  {
   "cell_type": "code",
   "execution_count": null,
   "id": "313b083d",
   "metadata": {},
   "outputs": [],
   "source": [
    "# Create the model\n",
    "model = Cartpole()\n",
    "n,m = size(Cartpole)"
   ]
  },
  {
   "cell_type": "code",
   "execution_count": null,
   "id": "0f0abfff",
   "metadata": {},
   "outputs": [],
   "source": [
    "print(n)\n",
    "print(\"\\n\")\n",
    "print(m)"
   ]
  },
  {
   "cell_type": "code",
   "execution_count": null,
   "id": "c53cc1a1",
   "metadata": {},
   "outputs": [],
   "source": [
    "# Generate random state and control vector\n",
    "x,u = rand(model)\n",
    "dt = 0.1  # time step (s)\n",
    "z = KnotPoint(x,u,dt)\n",
    "\n",
    "# Evaluate the continuous dynamics and Jacobian\n",
    "ẋ = dynamics(model, x, u)\n",
    "∇f = RobotDynamics.DynamicsJacobian(model)\n",
    "jacobian!(∇f, model, z)\n",
    "\n",
    "# Evaluate the discrete dynamics and Jacobian\n",
    "x′ = discrete_dynamics(RK3, model, z)\n",
    "discrete_jacobian!(RK3, ∇f, model, z)"
   ]
  }
 ],
 "metadata": {
  "kernelspec": {
   "display_name": "Julia 1.6.5",
   "language": "julia",
   "name": "julia-1.6"
  },
  "language_info": {
   "file_extension": ".jl",
   "mimetype": "application/julia",
   "name": "julia",
   "version": "1.6.5"
  }
 },
 "nbformat": 4,
 "nbformat_minor": 5
}
