{
 "cells": [
  {
   "cell_type": "code",
   "execution_count": 27,
   "id": "21cf64cb",
   "metadata": {},
   "outputs": [],
   "source": [
    "using RigidBodyDynamics\n",
    "using StaticArrays\n",
    "using MeshCat, MeshCatMechanisms, Blink\n",
    "using Random\n",
    "Random.seed!(42);"
   ]
  },
  {
   "cell_type": "code",
   "execution_count": 28,
   "id": "74f6135b",
   "metadata": {},
   "outputs": [
    {
     "data": {
      "text/plain": [
       "Spanning tree:\n",
       "Vertex: world (root)\n",
       "  Vertex: Shoulder_Link, Edge: Actuator1\n",
       "    Vertex: HalfArm1_Link, Edge: Actuator2\n",
       "      Vertex: HalfArm2_Link, Edge: Actuator3\n",
       "        Vertex: ForeArm_Link, Edge: Actuator4\n",
       "          Vertex: SphericalWrist1_Link, Edge: Actuator5\n",
       "            Vertex: SphericalWrist2_Link, Edge: Actuator6\n",
       "              Vertex: Bracelet_Link, Edge: Actuator7\n",
       "No non-tree joints."
      ]
     },
     "execution_count": 28,
     "metadata": {},
     "output_type": "execute_result"
    }
   ],
   "source": [
    "srcdir = dirname(pathof(RigidBodyDynamics))\n",
    "urdf = \"../../../kortex_description/arms/gen3/7dof/urdf/GEN3_URDF_V12 copy.urdf\"\n",
    "mechanism = parse_urdf(urdf)\n",
    "state = MechanismState(mechanism)\n",
    "mechanism"
   ]
  },
  {
   "cell_type": "code",
   "execution_count": 29,
   "id": "6c264210",
   "metadata": {},
   "outputs": [
    {
     "data": {
      "text/plain": [
       "Point3D in \"after_Actuator7\": [0.0, 0.0, -2.0]"
      ]
     },
     "execution_count": 29,
     "metadata": {},
     "output_type": "execute_result"
    }
   ],
   "source": [
    "body = findbody(mechanism, \"Bracelet_Link\")\n",
    "point = Point3D(default_frame(body), 0., 0, -2)"
   ]
  },
  {
   "cell_type": "code",
   "execution_count": 30,
   "id": "62b22547",
   "metadata": {},
   "outputs": [
    {
     "name": "stderr",
     "output_type": "stream",
     "text": [
      "┌ Info: MeshCat server started. You can open the visualizer by visiting the following URL in your browser:\n",
      "│ http://127.0.0.1:8718\n",
      "└ @ MeshCat /home/amkyu/.julia/packages/MeshCat/Ax8pH/src/visualizer.jl:73\n",
      "┌ Warning: Could not find the mesh file: package://kortex_description/arms/gen3/7dof/meshes/Shoulder_Link.STL. Tried substituting the following folders for the 'package://' prefix: [\"/opt/ros/noetic/share\"].\n",
      "│ Also tried changing the extension to .obj.\n",
      "└ @ MechanismGeometries.URDF /home/amkyu/.julia/packages/MechanismGeometries/rDVzQ/src/urdf.jl:58\n",
      "┌ Warning: Could not find the mesh file: package://kortex_description/arms/gen3/7dof/meshes/HalfArm1_Link.STL. Tried substituting the following folders for the 'package://' prefix: [\"/opt/ros/noetic/share\"].\n",
      "│ Also tried changing the extension to .obj.\n",
      "└ @ MechanismGeometries.URDF /home/amkyu/.julia/packages/MechanismGeometries/rDVzQ/src/urdf.jl:58\n",
      "┌ Warning: Could not find the mesh file: package://kortex_description/arms/gen3/7dof/meshes/HalfArm2_Link.STL. Tried substituting the following folders for the 'package://' prefix: [\"/opt/ros/noetic/share\"].\n",
      "│ Also tried changing the extension to .obj.\n",
      "└ @ MechanismGeometries.URDF /home/amkyu/.julia/packages/MechanismGeometries/rDVzQ/src/urdf.jl:58\n",
      "┌ Warning: Could not find the mesh file: package://kortex_description/arms/gen3/7dof/meshes/ForeArm_Link.STL. Tried substituting the following folders for the 'package://' prefix: [\"/opt/ros/noetic/share\"].\n",
      "│ Also tried changing the extension to .obj.\n",
      "└ @ MechanismGeometries.URDF /home/amkyu/.julia/packages/MechanismGeometries/rDVzQ/src/urdf.jl:58\n",
      "┌ Warning: Could not find the mesh file: package://kortex_description/arms/gen3/7dof/meshes/SphericalWrist1_Link.STL. Tried substituting the following folders for the 'package://' prefix: [\"/opt/ros/noetic/share\"].\n",
      "│ Also tried changing the extension to .obj.\n",
      "└ @ MechanismGeometries.URDF /home/amkyu/.julia/packages/MechanismGeometries/rDVzQ/src/urdf.jl:58\n",
      "┌ Warning: Could not find the mesh file: package://kortex_description/arms/gen3/7dof/meshes/SphericalWrist2_Link.STL. Tried substituting the following folders for the 'package://' prefix: [\"/opt/ros/noetic/share\"].\n",
      "│ Also tried changing the extension to .obj.\n",
      "└ @ MechanismGeometries.URDF /home/amkyu/.julia/packages/MechanismGeometries/rDVzQ/src/urdf.jl:58\n",
      "┌ Warning: Could not find the mesh file: package://kortex_description/arms/gen3/7dof/meshes/Bracelet_Link.STL. Tried substituting the following folders for the 'package://' prefix: [\"/opt/ros/noetic/share\"].\n",
      "│ Also tried changing the extension to .obj.\n",
      "└ @ MechanismGeometries.URDF /home/amkyu/.julia/packages/MechanismGeometries/rDVzQ/src/urdf.jl:58\n"
     ]
    },
    {
     "data": {
      "text/plain": [
       "MeshCat Visualizer with path /meshcat/world/Shoulder_Link/HalfArm1_Link/HalfArm2_Link/ForeArm_Link/SphericalWrist1_Link/SphericalWrist2_Link/Bracelet_Link/after_Actuator7/<element> at http://127.0.0.1:8718"
      ]
     },
     "execution_count": 30,
     "metadata": {},
     "output_type": "execute_result"
    }
   ],
   "source": [
    "# Create the visualizer\n",
    "vis = MechanismVisualizer(mechanism, URDFVisuals(urdf))\n",
    "\n",
    "# Render our target point attached to the robot as a sphere with radius 0.07\n",
    "setelement!(vis, point, 0.07)"
   ]
  },
  {
   "cell_type": "code",
   "execution_count": 15,
   "id": "d3a30a36",
   "metadata": {},
   "outputs": [
    {
     "name": "stderr",
     "output_type": "stream",
     "text": [
      "┌ Info: MeshCat server started. You can open the visualizer by visiting the following URL in your browser:\n",
      "│ http://127.0.0.1:8715\n",
      "└ @ MeshCat /home/amkyu/.julia/packages/MeshCat/Ax8pH/src/visualizer.jl:73\n",
      "┌ Warning: Could not find the mesh file: package://kortex_description/arms/gen3/7dof/meshes/base_link.STL. Tried substituting the following folders for the 'package://' prefix: [\"/opt/ros/noetic/share\"].\n",
      "│ Also tried changing the extension to .obj.\n",
      "└ @ MechanismGeometries.URDF /home/amkyu/.julia/packages/MechanismGeometries/rDVzQ/src/urdf.jl:58\n",
      "┌ Warning: Could not find the mesh file: package://kortex_description/arms/gen3/7dof/meshes/Shoulder_Link.STL. Tried substituting the following folders for the 'package://' prefix: [\"/opt/ros/noetic/share\"].\n",
      "│ Also tried changing the extension to .obj.\n",
      "└ @ MechanismGeometries.URDF /home/amkyu/.julia/packages/MechanismGeometries/rDVzQ/src/urdf.jl:58\n",
      "┌ Warning: Could not find the mesh file: package://kortex_description/arms/gen3/7dof/meshes/HalfArm1_Link.STL. Tried substituting the following folders for the 'package://' prefix: [\"/opt/ros/noetic/share\"].\n",
      "│ Also tried changing the extension to .obj.\n",
      "└ @ MechanismGeometries.URDF /home/amkyu/.julia/packages/MechanismGeometries/rDVzQ/src/urdf.jl:58\n",
      "┌ Warning: Could not find the mesh file: package://kortex_description/arms/gen3/7dof/meshes/HalfArm2_Link.STL. Tried substituting the following folders for the 'package://' prefix: [\"/opt/ros/noetic/share\"].\n",
      "│ Also tried changing the extension to .obj.\n",
      "└ @ MechanismGeometries.URDF /home/amkyu/.julia/packages/MechanismGeometries/rDVzQ/src/urdf.jl:58\n",
      "┌ Warning: Could not find the mesh file: package://kortex_description/arms/gen3/7dof/meshes/ForeArm_Link.STL. Tried substituting the following folders for the 'package://' prefix: [\"/opt/ros/noetic/share\"].\n",
      "│ Also tried changing the extension to .obj.\n",
      "└ @ MechanismGeometries.URDF /home/amkyu/.julia/packages/MechanismGeometries/rDVzQ/src/urdf.jl:58\n",
      "┌ Warning: Could not find the mesh file: package://kortex_description/arms/gen3/7dof/meshes/SphericalWrist1_Link.STL. Tried substituting the following folders for the 'package://' prefix: [\"/opt/ros/noetic/share\"].\n",
      "│ Also tried changing the extension to .obj.\n",
      "└ @ MechanismGeometries.URDF /home/amkyu/.julia/packages/MechanismGeometries/rDVzQ/src/urdf.jl:58\n",
      "┌ Warning: Could not find the mesh file: package://kortex_description/arms/gen3/7dof/meshes/SphericalWrist2_Link.STL. Tried substituting the following folders for the 'package://' prefix: [\"/opt/ros/noetic/share\"].\n",
      "│ Also tried changing the extension to .obj.\n",
      "└ @ MechanismGeometries.URDF /home/amkyu/.julia/packages/MechanismGeometries/rDVzQ/src/urdf.jl:58\n",
      "┌ Warning: Could not find the mesh file: package://kortex_description/arms/gen3/7dof/meshes/Bracelet_Link.STL. Tried substituting the following folders for the 'package://' prefix: [\"/opt/ros/noetic/share\"].\n",
      "│ Also tried changing the extension to .obj.\n",
      "└ @ MechanismGeometries.URDF /home/amkyu/.julia/packages/MechanismGeometries/rDVzQ/src/urdf.jl:58\n"
     ]
    },
    {
     "data": {
      "text/plain": [
       "MechanismVisualizer{MechanismState{Float64, Float64, Float64, TypeSortedCollections.TypeSortedCollection{Tuple{Vector{Joint{Float64, Revolute{Float64}}}}, 1}}, Visualizer}(MechanismState{Float64, Float64, Float64, …}(…), MeshCat Visualizer with path /meshcat at http://127.0.0.1:8715, 11)"
      ]
     },
     "execution_count": 15,
     "metadata": {},
     "output_type": "execute_result"
    }
   ],
   "source": [
    "open(vis, Window());\n",
    "mvis = MechanismVisualizer(mechanism, URDFVisuals(urdf))"
   ]
  },
  {
   "cell_type": "code",
   "execution_count": null,
   "id": "9f6d3cb7",
   "metadata": {},
   "outputs": [],
   "source": []
  }
 ],
 "metadata": {
  "kernelspec": {
   "display_name": "Julia 1.6.5",
   "language": "julia",
   "name": "julia-1.6"
  },
  "language_info": {
   "file_extension": ".jl",
   "mimetype": "application/julia",
   "name": "julia",
   "version": "1.6.5"
  }
 },
 "nbformat": 4,
 "nbformat_minor": 5
}
