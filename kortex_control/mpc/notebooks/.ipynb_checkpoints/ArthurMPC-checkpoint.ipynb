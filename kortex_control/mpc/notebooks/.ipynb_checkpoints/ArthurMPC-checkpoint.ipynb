{
 "cells": [
  {
   "cell_type": "code",
   "execution_count": 2,
   "id": "ffb41a0e",
   "metadata": {},
   "outputs": [
    {
     "name": "stdout",
     "output_type": "stream",
     "text": [
      "\u001b[32m\u001b[1m      Status\u001b[22m\u001b[39m `~/catkin_workspace/src/ros_kortex/kortex_control/mpc/notebooks/Project.toml` (empty project)\n"
     ]
    },
    {
     "name": "stderr",
     "output_type": "stream",
     "text": [
      "┌ Info: Precompiling Altro [5dcf52e5-e2fb-48e0-b826-96f46d2e3e73]\n",
      "└ @ Base loading.jl:1342\n"
     ]
    }
   ],
   "source": [
    "import Pkg; Pkg.status()\n",
    "include(\"../src/Arthur.jl\")\n",
    "using RigidBodyDynamics\n",
    "using StaticArrays\n",
    "using RobotDynamics\n",
    "using Rotations\n",
    "using LinearAlgebra\n",
    "using ForwardDiff, FiniteDiff\n",
    "using Altro\n",
    "using TrajectoryOptimization"
   ]
  },
  {
   "cell_type": "code",
   "execution_count": 3,
   "id": "71e80d4b",
   "metadata": {},
   "outputs": [
    {
     "ename": "LoadError",
     "evalue": "ArgumentError: f.frame: \"after_Actuator7\" (id = 24) ≠ tf.from: \"after_EndEffector\" (id = 27)",
     "output_type": "error",
     "traceback": [
      "ArgumentError: f.frame: \"after_Actuator7\" (id = 24) ≠ tf.from: \"after_EndEffector\" (id = 27)",
      "",
      "Stacktrace:",
      " [1] framecheck_fail(expr1::Expr, expr2::Expr, f1::CartesianFrame3D, f2::CartesianFrame3D)",
      "   @ RigidBodyDynamics.Spatial ~/.julia/packages/RigidBodyDynamics/8B04X/src/spatial/frame.jl:74",
      " [2] macro expansion",
      "   @ ~/.julia/packages/RigidBodyDynamics/8B04X/src/spatial/frame.jl:66 [inlined]",
      " [3] transform(f::Wrench{Float64}, tf::Transform3D{Float64})",
      "   @ RigidBodyDynamics.Spatial ~/.julia/packages/RigidBodyDynamics/8B04X/src/spatial/spatialforce.jl:153",
      " [4] dynamics(model::Arthur{Any}, s::Vector{Float64}, u::Vector{Float64})",
      "   @ Main ~/catkin_workspace/src/ros_kortex/kortex_control/mpc/src/Arthur.jl:52",
      " [5] top-level scope",
      "   @ In[3]:2",
      " [6] eval",
      "   @ ./boot.jl:360 [inlined]",
      " [7] include_string(mapexpr::typeof(REPL.softscope), mod::Module, code::String, filename::String)",
      "   @ Base ./loading.jl:1116"
     ]
    }
   ],
   "source": [
    "model = Arthur()\n",
    "print(RobotDynamics.dynamics(model, zeros(32), 0.1*ones(7)))\n",
    "n,m = size(model)"
   ]
  },
  {
   "cell_type": "code",
   "execution_count": 4,
   "id": "91bf1caf",
   "metadata": {},
   "outputs": [
    {
     "data": {
      "text/plain": [
       "0.05"
      ]
     },
     "execution_count": 4,
     "metadata": {},
     "output_type": "execute_result"
    }
   ],
   "source": [
    "N = 61\n",
    "tf = 3.\n",
    "dt = tf/(N-1)"
   ]
  },
  {
   "cell_type": "code",
   "execution_count": 5,
   "id": "5e449f55",
   "metadata": {},
   "outputs": [
    {
     "ename": "LoadError",
     "evalue": "UndefVarError: m not defined",
     "output_type": "error",
     "traceback": [
      "UndefVarError: m not defined",
      "",
      "Stacktrace:",
      " [1] (::var\"#4#5\")(k::Int64)",
      "   @ Main ./none:0",
      " [2] iterate",
      "   @ ./generator.jl:47 [inlined]",
      " [3] collect(itr::Base.Generator{UnitRange{Int64}, var\"#4#5\"})",
      "   @ Base ./array.jl:681",
      " [4] top-level scope",
      "   @ In[5]:4",
      " [5] eval",
      "   @ ./boot.jl:360 [inlined]",
      " [6] include_string(mapexpr::typeof(REPL.softscope), mod::Module, code::String, filename::String)",
      "   @ Base ./loading.jl:1116"
     ]
    }
   ],
   "source": [
    "# TODO:\n",
    "# Uref could be just U equilibrium (just gravity compensation),\n",
    "# Xref could be the desired joint and cartesian positions and velocities, and then 0 for the forces\n",
    "Uref = [fill(0.0, m) for k = 1:N-1]\n",
    "Xref = [fill(0.0, n) for k = 1:N]\n",
    "traj = RobotDynamics.Traj(Xref, Uref, [dt for k=1:N], cumsum(dtref) .- dtref[1]);"
   ]
  },
  {
   "cell_type": "code",
   "execution_count": 6,
   "id": "d8745e4b",
   "metadata": {},
   "outputs": [
    {
     "ename": "LoadError",
     "evalue": "UndefVarError: n not defined",
     "output_type": "error",
     "traceback": [
      "UndefVarError: n not defined",
      "",
      "Stacktrace:",
      " [1] top-level scope",
      "   @ ~/.julia/packages/StaticArrays/0bweZ/src/SVector.jl:92",
      " [2] eval",
      "   @ ./boot.jl:360 [inlined]",
      " [3] include_string(mapexpr::typeof(REPL.softscope), mod::Module, code::String, filename::String)",
      "   @ Base ./loading.jl:1116"
     ]
    }
   ],
   "source": [
    "# Set up\n",
    "# TODO: Tune weights\n",
    "Q = 1.0e-2*Diagonal(@SVector ones(n))\n",
    "Qf = 100.0*Diagonal(@SVector ones(n))\n",
    "R = 1.0e-1*Diagonal(@SVector ones(m))\n",
    "obj = TrajectoryOptimization.TrackingObjective(Q, R, traj, Qf=Qf)\n",
    "# obj = LQRObjective(Q,R,Qf,xf,N);"
   ]
  },
  {
   "cell_type": "code",
   "execution_count": 130,
   "id": "5f16be0c",
   "metadata": {},
   "outputs": [],
   "source": [
    "# Create Empty ConstraintList\n",
    "conSet = ConstraintList(n,m,N)\n",
    "\n",
    "# Control Bounds based on Robot Specs (Joint torque limits)\n",
    "u_bnd = [39.0, 39.0, 39.0, 39.0, 9.0, 9.0, 9.0]\n",
    "control_bnd = BoundConstraint(n,m, u_min=-u_bnd, u_max=u_bnd)\n",
    "add_constraint!(conSet, control_bnd, 1:N-1)\n",
    "\n",
    "# State Bounds based on Robot Specs (Joint velocity and speed limits)\n",
    "x_bnd = zeros(n)\n",
    "x_bnd[1:7] = [Inf, deg2rad(128.9), Inf, deg2rad(147.8), Inf, deg2rad(120.3), Inf] # rad\n",
    "x_bnd[8:14] = [1.39, 1.39, 1.39, 1.39, 1.22, 1.22, 1.22] # rad/sec\n",
    "x_bnd[15:end] = [Inf for k=1:(n-14)] # Constraints on force elsewhere\n",
    "state_bnd = BoundConstraint(n,m, x_min=-x_bnd, x_max=x_bnd)\n",
    "add_constraint!(conSet, state_bnd, 1:N)\n",
    "\n",
    "# Cartesian Velocity Bound\n",
    "ẋ_max = 0.0005 # m/s\n",
    "vel_bnd = NormConstraint(n, m, ẋ_max, Inequality(), 21:23)\n",
    "add_constraint!(conSet, vel_bnd, 1:N)\n",
    "\n",
    "# Force Bound (Fx Fy Fz)\n",
    "F_max = 20 # Newtons\n",
    "F_bnd = NormConstraint(n, m, F_max, Inequality(), 27:29)\n",
    "add_constraint!(conSet, F_bnd, 1:N)\n",
    "\n",
    "# Other possible constraints:\n",
    "# Cartesian angular velocity bounds?\n",
    "# External moment bounds?\n",
    "\n",
    "# Goal Constraint - only if you want the final state to be the desired state\n",
    "# goal = GoalConstraint(xf)\n",
    "# add_constraint!(conSet, goal, N)"
   ]
  },
  {
   "cell_type": "code",
   "execution_count": 131,
   "id": "d82ea19e",
   "metadata": {},
   "outputs": [
    {
     "data": {
      "text/plain": [
       "Problem{RK3, Float64}(Arthur{Any}(Spanning tree:\n",
       "Vertex: world (root)\n",
       "  Vertex: Shoulder_Link, Edge: Actuator1\n",
       "    Vertex: HalfArm1_Link, Edge: Actuator2\n",
       "      Vertex: HalfArm2_Link, Edge: Actuator3\n",
       "        Vertex: ForeArm_Link, Edge: Actuator4\n",
       "          Vertex: SphericalWrist1_Link, Edge: Actuator5\n",
       "            Vertex: SphericalWrist2_Link, Edge: Actuator6\n",
       "              Vertex: Bracelet_Link, Edge: Actuator7\n",
       "No non-tree joints.), Objective, ConstraintList(32, 7, TrajectoryOptimization.AbstractConstraint[BoundConstraint{14, 39, Float64}(32, 7, [Inf, Inf, Inf, Inf, Inf, Inf, Inf, Inf, Inf, Inf  …  Inf, Inf, Inf, 39.0, 39.0, 39.0, 39.0, 9.0, 9.0, 9.0], [-Inf, -Inf, -Inf, -Inf, -Inf, -Inf, -Inf, -Inf, -Inf, -Inf  …  -Inf, -Inf, -Inf, -39.0, -39.0, -39.0, -39.0, -9.0, -9.0, -9.0], [449, 464, 479, 494, 509, 524, 539], [456, 471, 486, 501, 516, 531, 546], [33, 34, 35, 36, 37, 38, 39, 72, 73, 74, 75, 76, 77, 78]), BoundConstraint{20, 39, Float64}(32, 7, [Inf, 2.2497294058206907, Inf, 2.5795966344476193, Inf, 2.0996310901491784, Inf, 1.39, 1.39, 1.39  …  Inf, Inf, Inf, Inf, Inf, Inf, Inf, Inf, Inf, Inf], [-Inf, -2.2497294058206907, -Inf, -2.5795966344476193, -Inf, -2.0996310901491784, -Inf, -1.39, -1.39, -1.39  …  -Inf, -Inf, -Inf, -Inf, -Inf, -Inf, -Inf, -Inf, -Inf, -Inf], [21, 62, 103, 144, 165, 186, 207, 228, 249, 270], [31, 72, 113, 154, 175, 196, 217, 238, 259, 280], [2, 4, 6, 8, 9, 10, 11, 12, 13, 14, 41, 43, 45, 47, 48, 49, 50, 51, 52, 53]), NormConstraint{TrajectoryOptimization.NegativeOrthant, 3, Float64}(32, 7, 0.0005, TrajectoryOptimization.NegativeOrthant(), [21, 22, 23]), NormConstraint{TrajectoryOptimization.NegativeOrthant, 3, Int64}(32, 7, 20, TrajectoryOptimization.NegativeOrthant(), [27, 28, 29])], UnitRange{Int64}[1:60, 1:61, 1:61, 1:61], [36, 36, 36, 36, 36, 36, 36, 36, 36, 36  …  36, 36, 36, 36, 36, 36, 36, 36, 36, 22]), [0.0, 0.0, 0.0, 0.0, 0.0, 0.0, 0.0, 0.0, 0.0, 0.0  …  0.0, 0.0, 0.0, 0.0, 0.0, 0.0, 0.0, 0.0, 0.0, 0.0], [0.0, 0.0, 0.0, 0.0, 0.0, 0.0, 0.0, 0.0, 0.0, 0.0  …  0.0, 0.0, 0.0, 0.0, 0.0, 0.0, 0.0, 0.0, 0.0, 0.0], KnotPoint{Float64, 32, 7, 39}[KnotPoint{Float64, 32, 7, 39}([0.0, 0.0, 0.0, 0.0, 0.0, 0.0, 0.0, 0.0, 0.0, 0.0  …  0.0, 0.0, 0.0, 0.0, 0.0, 0.0, 0.0, 0.0, 0.0, 0.0], [1, 2, 3, 4, 5, 6, 7, 8, 9, 10  …  23, 24, 25, 26, 27, 28, 29, 30, 31, 32], [33, 34, 35, 36, 37, 38, 39], 0.05, 0.0), KnotPoint{Float64, 32, 7, 39}([0.0, 0.0, 0.0, 0.0, 0.0, 0.0, 0.0, 0.0, 0.0, 0.0  …  0.0, 0.0, 0.0, 0.0, 0.0, 0.0, 0.0, 0.0, 0.0, 0.0], [1, 2, 3, 4, 5, 6, 7, 8, 9, 10  …  23, 24, 25, 26, 27, 28, 29, 30, 31, 32], [33, 34, 35, 36, 37, 38, 39], 0.05, 0.05), KnotPoint{Float64, 32, 7, 39}([0.0, 0.0, 0.0, 0.0, 0.0, 0.0, 0.0, 0.0, 0.0, 0.0  …  0.0, 0.0, 0.0, 0.0, 0.0, 0.0, 0.0, 0.0, 0.0, 0.0], [1, 2, 3, 4, 5, 6, 7, 8, 9, 10  …  23, 24, 25, 26, 27, 28, 29, 30, 31, 32], [33, 34, 35, 36, 37, 38, 39], 0.05, 0.1), KnotPoint{Float64, 32, 7, 39}([0.0, 0.0, 0.0, 0.0, 0.0, 0.0, 0.0, 0.0, 0.0, 0.0  …  0.0, 0.0, 0.0, 0.0, 0.0, 0.0, 0.0, 0.0, 0.0, 0.0], [1, 2, 3, 4, 5, 6, 7, 8, 9, 10  …  23, 24, 25, 26, 27, 28, 29, 30, 31, 32], [33, 34, 35, 36, 37, 38, 39], 0.05, 0.15000000000000002), KnotPoint{Float64, 32, 7, 39}([0.0, 0.0, 0.0, 0.0, 0.0, 0.0, 0.0, 0.0, 0.0, 0.0  …  0.0, 0.0, 0.0, 0.0, 0.0, 0.0, 0.0, 0.0, 0.0, 0.0], [1, 2, 3, 4, 5, 6, 7, 8, 9, 10  …  23, 24, 25, 26, 27, 28, 29, 30, 31, 32], [33, 34, 35, 36, 37, 38, 39], 0.05, 0.2), KnotPoint{Float64, 32, 7, 39}([0.0, 0.0, 0.0, 0.0, 0.0, 0.0, 0.0, 0.0, 0.0, 0.0  …  0.0, 0.0, 0.0, 0.0, 0.0, 0.0, 0.0, 0.0, 0.0, 0.0], [1, 2, 3, 4, 5, 6, 7, 8, 9, 10  …  23, 24, 25, 26, 27, 28, 29, 30, 31, 32], [33, 34, 35, 36, 37, 38, 39], 0.05, 0.25), KnotPoint{Float64, 32, 7, 39}([0.0, 0.0, 0.0, 0.0, 0.0, 0.0, 0.0, 0.0, 0.0, 0.0  …  0.0, 0.0, 0.0, 0.0, 0.0, 0.0, 0.0, 0.0, 0.0, 0.0], [1, 2, 3, 4, 5, 6, 7, 8, 9, 10  …  23, 24, 25, 26, 27, 28, 29, 30, 31, 32], [33, 34, 35, 36, 37, 38, 39], 0.05, 0.3), KnotPoint{Float64, 32, 7, 39}([0.0, 0.0, 0.0, 0.0, 0.0, 0.0, 0.0, 0.0, 0.0, 0.0  …  0.0, 0.0, 0.0, 0.0, 0.0, 0.0, 0.0, 0.0, 0.0, 0.0], [1, 2, 3, 4, 5, 6, 7, 8, 9, 10  …  23, 24, 25, 26, 27, 28, 29, 30, 31, 32], [33, 34, 35, 36, 37, 38, 39], 0.05, 0.35), KnotPoint{Float64, 32, 7, 39}([0.0, 0.0, 0.0, 0.0, 0.0, 0.0, 0.0, 0.0, 0.0, 0.0  …  0.0, 0.0, 0.0, 0.0, 0.0, 0.0, 0.0, 0.0, 0.0, 0.0], [1, 2, 3, 4, 5, 6, 7, 8, 9, 10  …  23, 24, 25, 26, 27, 28, 29, 30, 31, 32], [33, 34, 35, 36, 37, 38, 39], 0.05, 0.39999999999999997), KnotPoint{Float64, 32, 7, 39}([0.0, 0.0, 0.0, 0.0, 0.0, 0.0, 0.0, 0.0, 0.0, 0.0  …  0.0, 0.0, 0.0, 0.0, 0.0, 0.0, 0.0, 0.0, 0.0, 0.0], [1, 2, 3, 4, 5, 6, 7, 8, 9, 10  …  23, 24, 25, 26, 27, 28, 29, 30, 31, 32], [33, 34, 35, 36, 37, 38, 39], 0.05, 0.44999999999999996)  …  KnotPoint{Float64, 32, 7, 39}([0.0, 0.0, 0.0, 0.0, 0.0, 0.0, 0.0, 0.0, 0.0, 0.0  …  0.0, 0.0, 0.0, 0.0, 0.0, 0.0, 0.0, 0.0, 0.0, 0.0], [1, 2, 3, 4, 5, 6, 7, 8, 9, 10  …  23, 24, 25, 26, 27, 28, 29, 30, 31, 32], [33, 34, 35, 36, 37, 38, 39], 0.05, 2.549999999999999), KnotPoint{Float64, 32, 7, 39}([0.0, 0.0, 0.0, 0.0, 0.0, 0.0, 0.0, 0.0, 0.0, 0.0  …  0.0, 0.0, 0.0, 0.0, 0.0, 0.0, 0.0, 0.0, 0.0, 0.0], [1, 2, 3, 4, 5, 6, 7, 8, 9, 10  …  23, 24, 25, 26, 27, 28, 29, 30, 31, 32], [33, 34, 35, 36, 37, 38, 39], 0.05, 2.5999999999999988), KnotPoint{Float64, 32, 7, 39}([0.0, 0.0, 0.0, 0.0, 0.0, 0.0, 0.0, 0.0, 0.0, 0.0  …  0.0, 0.0, 0.0, 0.0, 0.0, 0.0, 0.0, 0.0, 0.0, 0.0], [1, 2, 3, 4, 5, 6, 7, 8, 9, 10  …  23, 24, 25, 26, 27, 28, 29, 30, 31, 32], [33, 34, 35, 36, 37, 38, 39], 0.05, 2.6499999999999986), KnotPoint{Float64, 32, 7, 39}([0.0, 0.0, 0.0, 0.0, 0.0, 0.0, 0.0, 0.0, 0.0, 0.0  …  0.0, 0.0, 0.0, 0.0, 0.0, 0.0, 0.0, 0.0, 0.0, 0.0], [1, 2, 3, 4, 5, 6, 7, 8, 9, 10  …  23, 24, 25, 26, 27, 28, 29, 30, 31, 32], [33, 34, 35, 36, 37, 38, 39], 0.05, 2.6999999999999984), KnotPoint{Float64, 32, 7, 39}([0.0, 0.0, 0.0, 0.0, 0.0, 0.0, 0.0, 0.0, 0.0, 0.0  …  0.0, 0.0, 0.0, 0.0, 0.0, 0.0, 0.0, 0.0, 0.0, 0.0], [1, 2, 3, 4, 5, 6, 7, 8, 9, 10  …  23, 24, 25, 26, 27, 28, 29, 30, 31, 32], [33, 34, 35, 36, 37, 38, 39], 0.05, 2.7499999999999982), KnotPoint{Float64, 32, 7, 39}([0.0, 0.0, 0.0, 0.0, 0.0, 0.0, 0.0, 0.0, 0.0, 0.0  …  0.0, 0.0, 0.0, 0.0, 0.0, 0.0, 0.0, 0.0, 0.0, 0.0], [1, 2, 3, 4, 5, 6, 7, 8, 9, 10  …  23, 24, 25, 26, 27, 28, 29, 30, 31, 32], [33, 34, 35, 36, 37, 38, 39], 0.05, 2.799999999999998), KnotPoint{Float64, 32, 7, 39}([0.0, 0.0, 0.0, 0.0, 0.0, 0.0, 0.0, 0.0, 0.0, 0.0  …  0.0, 0.0, 0.0, 0.0, 0.0, 0.0, 0.0, 0.0, 0.0, 0.0], [1, 2, 3, 4, 5, 6, 7, 8, 9, 10  …  23, 24, 25, 26, 27, 28, 29, 30, 31, 32], [33, 34, 35, 36, 37, 38, 39], 0.05, 2.849999999999998), KnotPoint{Float64, 32, 7, 39}([0.0, 0.0, 0.0, 0.0, 0.0, 0.0, 0.0, 0.0, 0.0, 0.0  …  0.0, 0.0, 0.0, 0.0, 0.0, 0.0, 0.0, 0.0, 0.0, 0.0], [1, 2, 3, 4, 5, 6, 7, 8, 9, 10  …  23, 24, 25, 26, 27, 28, 29, 30, 31, 32], [33, 34, 35, 36, 37, 38, 39], 0.05, 2.8999999999999977), KnotPoint{Float64, 32, 7, 39}([0.0, 0.0, 0.0, 0.0, 0.0, 0.0, 0.0, 0.0, 0.0, 0.0  …  0.0, 0.0, 0.0, 0.0, 0.0, 0.0, 0.0, 0.0, 0.0, 0.0], [1, 2, 3, 4, 5, 6, 7, 8, 9, 10  …  23, 24, 25, 26, 27, 28, 29, 30, 31, 32], [33, 34, 35, 36, 37, 38, 39], 0.05, 2.9499999999999975), KnotPoint{Float64, 32, 7, 39}([0.0, 0.0, 0.0, 0.0, 0.0, 0.0, 0.0, 0.0, 0.0, 0.0  …  0.0, 0.0, 0.0, 0.0, 0.0, 0.0, 0.0, 0.0, 0.0, 0.0], [1, 2, 3, 4, 5, 6, 7, 8, 9, 10  …  23, 24, 25, 26, 27, 28, 29, 30, 31, 32], [33, 34, 35, 36, 37, 38, 39], 0.0, 2.9999999999999973)], 61, 0.0, 3.0)"
      ]
     },
     "execution_count": 131,
     "metadata": {},
     "output_type": "execute_result"
    }
   ],
   "source": [
    "prob = Problem(model, obj, Xref[end], tf, x0=Xref[1], constraints=conSet, N=N, U0=Uref, X0=Xref)"
   ]
  },
  {
   "cell_type": "code",
   "execution_count": 132,
   "id": "317d4fef",
   "metadata": {},
   "outputs": [
    {
     "ename": "LoadError",
     "evalue": "MethodError: no method matching Float64(::ForwardDiff.Dual{ForwardDiff.Tag{RobotDynamics.var\"#fd_aug#16\"{RK3, Arthur{Any}, Float64, Float64, SVector{7, Int64}, SVector{32, Int64}}, Float64}, Float64, 39})\n\u001b[0mClosest candidates are:\n\u001b[0m  (::Type{T})(::Real, \u001b[91m::RoundingMode\u001b[39m) where T<:AbstractFloat at rounding.jl:200\n\u001b[0m  (::Type{T})(::T) where T<:Number at boot.jl:760\n\u001b[0m  (::Type{T})(\u001b[91m::AbstractChar\u001b[39m) where T<:Union{AbstractChar, Number} at char.jl:50\n\u001b[0m  ...",
     "output_type": "error",
     "traceback": [
      "MethodError: no method matching Float64(::ForwardDiff.Dual{ForwardDiff.Tag{RobotDynamics.var\"#fd_aug#16\"{RK3, Arthur{Any}, Float64, Float64, SVector{7, Int64}, SVector{32, Int64}}, Float64}, Float64, 39})\n\u001b[0mClosest candidates are:\n\u001b[0m  (::Type{T})(::Real, \u001b[91m::RoundingMode\u001b[39m) where T<:AbstractFloat at rounding.jl:200\n\u001b[0m  (::Type{T})(::T) where T<:Number at boot.jl:760\n\u001b[0m  (::Type{T})(\u001b[91m::AbstractChar\u001b[39m) where T<:Union{AbstractChar, Number} at char.jl:50\n\u001b[0m  ...",
      "",
      "Stacktrace:",
      "  [1] convert(#unused#::Type{Float64}, x::ForwardDiff.Dual{ForwardDiff.Tag{RobotDynamics.var\"#fd_aug#16\"{RK3, Arthur{Any}, Float64, Float64, SVector{7, Int64}, SVector{32, Int64}}, Float64}, Float64, 39})",
      "    @ Base ./number.jl:7",
      "  [2] setindex!",
      "    @ ./array.jl:845 [inlined]",
      "  [3] dynamics(model::Arthur{Any}, s::SVector{32, ForwardDiff.Dual{ForwardDiff.Tag{RobotDynamics.var\"#fd_aug#16\"{RK3, Arthur{Any}, Float64, Float64, SVector{7, Int64}, SVector{32, Int64}}, Float64}, Float64, 39}}, u::SVector{7, ForwardDiff.Dual{ForwardDiff.Tag{RobotDynamics.var\"#fd_aug#16\"{RK3, Arthur{Any}, Float64, Float64, SVector{7, Int64}, SVector{32, Int64}}, Float64}, Float64, 39}})",
      "    @ Main ~/Documents/16681_MRSD_Proj_1/Arthur/src/Arthur.jl:42",
      "  [4] dynamics",
      "    @ ~/.julia/packages/RobotDynamics/tXate/src/model.jl:200 [inlined]",
      "  [5] integrate(#unused#::Type{RK3}, model::Arthur{Any}, x::SVector{32, ForwardDiff.Dual{ForwardDiff.Tag{RobotDynamics.var\"#fd_aug#16\"{RK3, Arthur{Any}, Float64, Float64, SVector{7, Int64}, SVector{32, Int64}}, Float64}, Float64, 39}}, u::SVector{7, ForwardDiff.Dual{ForwardDiff.Tag{RobotDynamics.var\"#fd_aug#16\"{RK3, Arthur{Any}, Float64, Float64, SVector{7, Int64}, SVector{32, Int64}}, Float64}, Float64, 39}}, t::Float64, dt::Float64)",
      "    @ RobotDynamics ~/.julia/packages/RobotDynamics/tXate/src/integration.jl:18",
      "  [6] discrete_dynamics",
      "    @ ~/.julia/packages/RobotDynamics/tXate/src/model.jl:303 [inlined]",
      "  [7] fd_aug",
      "    @ ~/.julia/packages/RobotDynamics/tXate/src/model.jl:351 [inlined]",
      "  [8] static_dual_eval",
      "    @ ~/.julia/packages/ForwardDiff/PBzup/src/apiutils.jl:32 [inlined]",
      "  [9] vector_mode_jacobian",
      "    @ ~/.julia/packages/ForwardDiff/PBzup/src/jacobian.jl:185 [inlined]",
      " [10] jacobian",
      "    @ ~/.julia/packages/ForwardDiff/PBzup/src/jacobian.jl:85 [inlined]",
      " [11] _discrete_jacobian!(::RobotDynamics.ForwardAD, ::Type{RK3}, ∇f::SparseArrays.SparseMatrixCSC{Float64, Int64}, model::Arthur{Any}, z::StaticKnotPoint{Float64, 32, 7, 39}, cache::Nothing)",
      "    @ RobotDynamics ~/.julia/packages/RobotDynamics/tXate/src/model.jl:352",
      " [12] detect_sparsity(::Type{RK3}, model::Arthur{Any}; dt::Float64, samples::Int64)",
      "    @ RobotDynamics ~/.julia/packages/RobotDynamics/tXate/src/model.jl:150",
      " [13] detect_sparsity",
      "    @ ~/.julia/packages/RobotDynamics/tXate/src/model.jl:142 [inlined]",
      " [14] JacobianCache (repeats 3 times)",
      "    @ ~/.julia/packages/RobotDynamics/tXate/src/model.jl:119 [inlined]",
      " [15] Altro.iLQRSolver(prob::Problem{RK3, Float64}, opts::SolverOptions{Float64}, stats::SolverStats{Float64}; kwarg_opts::Base.Iterators.Pairs{Union{}, Union{}, Tuple{}, NamedTuple{(), Tuple{}}})",
      "    @ Altro ~/.julia/packages/Altro/6AiyV/src/ilqr/ilqr.jl:96",
      " [16] iLQRSolver",
      "    @ ~/.julia/packages/Altro/6AiyV/src/ilqr/ilqr.jl:64 [inlined]",
      " [17] Altro.AugmentedLagrangianSolver(prob::Problem{RK3, Float64}, opts::SolverOptions{Float64}, stats::SolverStats{Float64}; solver_uncon::Type{Altro.iLQRSolver}, kwarg_opts::Base.Iterators.Pairs{Union{}, Union{}, Tuple{}, NamedTuple{(), Tuple{}}})",
      "    @ Altro ~/.julia/packages/Altro/6AiyV/src/augmented_lagrangian/al_solver.jl:52",
      " [18] ALTROSolver(prob::Problem{RK3, Float64}, opts::SolverOptions{Float64}; infeasible::Bool, R_inf::Float64, solver_uncon::Type, kwarg_opts::Base.Iterators.Pairs{Union{}, Union{}, Tuple{}, NamedTuple{(), Tuple{}}})",
      "    @ Altro ~/.julia/packages/Altro/6AiyV/src/altro/altro_solver.jl:56",
      " [19] ALTROSolver(prob::Problem{RK3, Float64}, opts::SolverOptions{Float64})",
      "    @ Altro ~/.julia/packages/Altro/6AiyV/src/altro/altro_solver.jl:44",
      " [20] top-level scope",
      "    @ In[132]:8",
      " [21] eval",
      "    @ ./boot.jl:360 [inlined]",
      " [22] include_string(mapexpr::typeof(REPL.softscope), mod::Module, code::String, filename::String)",
      "    @ Base ./loading.jl:1116"
     ]
    }
   ],
   "source": [
    "using Altro\n",
    "opts = SolverOptions(\n",
    "    cost_tolerance_intermediate=1e-2,\n",
    "    penalty_scaling=10.,\n",
    "    penalty_initial=1.0\n",
    ")\n",
    "\n",
    "altro = ALTROSolver(prob, opts)\n",
    "set_options!(altro, show_summary=true)\n",
    "solve!(altro);"
   ]
  },
  {
   "cell_type": "code",
   "execution_count": null,
   "id": "0f88abd1",
   "metadata": {},
   "outputs": [],
   "source": []
  }
 ],
 "metadata": {
  "kernelspec": {
   "display_name": "Julia 1.6.5",
   "language": "julia",
   "name": "julia-1.6"
  },
  "language_info": {
   "file_extension": ".jl",
   "mimetype": "application/julia",
   "name": "julia",
   "version": "1.6.5"
  }
 },
 "nbformat": 4,
 "nbformat_minor": 5
}
