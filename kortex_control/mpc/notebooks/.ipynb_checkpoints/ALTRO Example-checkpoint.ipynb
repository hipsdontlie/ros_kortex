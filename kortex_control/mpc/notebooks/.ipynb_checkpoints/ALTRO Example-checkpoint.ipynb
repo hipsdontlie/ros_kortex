{
 "cells": [
  {
   "cell_type": "code",
   "execution_count": 1,
   "id": "f9636650",
   "metadata": {},
   "outputs": [
    {
     "name": "stdout",
     "output_type": "stream",
     "text": [
      "SVector{4, Float64}KnotPoint{Float64, 4, 1, 5}[KnotPoint{Float64, 4, 1, 5}([NaN, NaN, NaN, NaN, 0.0], [1, 2, 3, 4], [5], 0.05, 0.0), KnotPoint{Float64, 4, 1, 5}([NaN, NaN, NaN, NaN, 0.0], [1, 2, 3, 4], [5], 0.05, 0.05), KnotPoint{Float64, 4, 1, 5}([NaN, NaN, NaN, NaN, 0.0], [1, 2, 3, 4], [5], 0.05, 0.1), KnotPoint{Float64, 4, 1, 5}([NaN, NaN, NaN, NaN, 0.0], [1, 2, 3, 4], [5], 0.05, 0.15000000000000002), KnotPoint{Float64, 4, 1, 5}([NaN, NaN, NaN, NaN, 0.0], [1, 2, 3, 4], [5], 0.05, 0.2), KnotPoint{Float64, 4, 1, 5}([NaN, NaN, NaN, NaN, 0.0], [1, 2, 3, 4], [5], 0.05, 0.25), KnotPoint{Float64, 4, 1, 5}([NaN, NaN, NaN, NaN, 0.0], [1, 2, 3, 4], [5], 0.05, 0.3), KnotPoint{Float64, 4, 1, 5}([NaN, NaN, NaN, NaN, 0.0], [1, 2, 3, 4], [5], 0.05, 0.35), KnotPoint{Float64, 4, 1, 5}([NaN, NaN, NaN, NaN, 0.0], [1, 2, 3, 4], [5], 0.05, 0.39999999999999997), KnotPoint{Float64, 4, 1, 5}([NaN, NaN, NaN, NaN, 0.0], [1, 2, 3, 4], [5], 0.05, 0.44999999999999996), KnotPoint{Float64, 4, 1, 5}([NaN, NaN, NaN, NaN, 0.0], [1, 2, 3, 4], [5], 0.05, 0.49999999999999994), KnotPoint{Float64, 4, 1, 5}([NaN, NaN, NaN, NaN, 0.0], [1, 2, 3, 4], [5], 0.05, 0.5499999999999999), KnotPoint{Float64, 4, 1, 5}([NaN, NaN, NaN, NaN, 0.0], [1, 2, 3, 4], [5], 0.05, 0.6), KnotPoint{Float64, 4, 1, 5}([NaN, NaN, NaN, NaN, 0.0], [1, 2, 3, 4], [5], 0.05, 0.65), KnotPoint{Float64, 4, 1, 5}([NaN, NaN, NaN, NaN, 0.0], [1, 2, 3, 4], [5], 0.05, 0.7000000000000001), KnotPoint{Float64, 4, 1, 5}([NaN, NaN, NaN, NaN, 0.0], [1, 2, 3, 4], [5], 0.05, 0.7500000000000001), KnotPoint{Float64, 4, 1, 5}([NaN, NaN, NaN, NaN, 0.0], [1, 2, 3, 4], [5], 0.05, 0.8000000000000002), KnotPoint{Float64, 4, 1, 5}([NaN, NaN, NaN, NaN, 0.0], [1, 2, 3, 4], [5], 0.05, 0.8500000000000002), KnotPoint{Float64, 4, 1, 5}([NaN, NaN, NaN, NaN, 0.0], [1, 2, 3, 4], [5], 0.05, 0.9000000000000002), KnotPoint{Float64, 4, 1, 5}([NaN, NaN, NaN, NaN, 0.0], [1, 2, 3, 4], [5], 0.05, 0.9500000000000003), KnotPoint{Float64, 4, 1, 5}([NaN, NaN, NaN, NaN, 0.0], [1, 2, 3, 4], [5], 0.05, 1.0000000000000002), KnotPoint{Float64, 4, 1, 5}([NaN, NaN, NaN, NaN, 0.0], [1, 2, 3, 4], [5], 0.05, 1.0500000000000003), KnotPoint{Float64, 4, 1, 5}([NaN, NaN, NaN, NaN, 0.0], [1, 2, 3, 4], [5], 0.05, 1.1000000000000003), KnotPoint{Float64, 4, 1, 5}([NaN, NaN, NaN, NaN, 0.0], [1, 2, 3, 4], [5], 0.05, 1.1500000000000004), KnotPoint{Float64, 4, 1, 5}([NaN, NaN, NaN, NaN, 0.0], [1, 2, 3, 4], [5], 0.05, 1.2000000000000004), KnotPoint{Float64, 4, 1, 5}([NaN, NaN, NaN, NaN, 0.0], [1, 2, 3, 4], [5], 0.05, 1.2500000000000004), KnotPoint{Float64, 4, 1, 5}([NaN, NaN, NaN, NaN, 0.0], [1, 2, 3, 4], [5], 0.05, 1.3000000000000005), KnotPoint{Float64, 4, 1, 5}([NaN, NaN, NaN, NaN, 0.0], [1, 2, 3, 4], [5], 0.05, 1.3500000000000005), KnotPoint{Float64, 4, 1, 5}([NaN, NaN, NaN, NaN, 0.0], [1, 2, 3, 4], [5], 0.05, 1.4000000000000006), KnotPoint{Float64, 4, 1, 5}([NaN, NaN, NaN, NaN, 0.0], [1, 2, 3, 4], [5], 0.05, 1.4500000000000006), KnotPoint{Float64, 4, 1, 5}([NaN, NaN, NaN, NaN, 0.0], [1, 2, 3, 4], [5], 0.05, 1.5000000000000007), KnotPoint{Float64, 4, 1, 5}([NaN, NaN, NaN, NaN, 0.0], [1, 2, 3, 4], [5], 0.05, 1.5500000000000007), KnotPoint{Float64, 4, 1, 5}([NaN, NaN, NaN, NaN, 0.0], [1, 2, 3, 4], [5], 0.05, 1.6000000000000008), KnotPoint{Float64, 4, 1, 5}([NaN, NaN, NaN, NaN, 0.0], [1, 2, 3, 4], [5], 0.05, 1.6500000000000008), KnotPoint{Float64, 4, 1, 5}([NaN, NaN, NaN, NaN, 0.0], [1, 2, 3, 4], [5], 0.05, 1.7000000000000008), KnotPoint{Float64, 4, 1, 5}([NaN, NaN, NaN, NaN, 0.0], [1, 2, 3, 4], [5], 0.05, 1.7500000000000009), KnotPoint{Float64, 4, 1, 5}([NaN, NaN, NaN, NaN, 0.0], [1, 2, 3, 4], [5], 0.05, 1.800000000000001), KnotPoint{Float64, 4, 1, 5}([NaN, NaN, NaN, NaN, 0.0], [1, 2, 3, 4], [5], 0.05, 1.850000000000001), KnotPoint{Float64, 4, 1, 5}([NaN, NaN, NaN, NaN, 0.0], [1, 2, 3, 4], [5], 0.05, 1.900000000000001), KnotPoint{Float64, 4, 1, 5}([NaN, NaN, NaN, NaN, 0.0], [1, 2, 3, 4], [5], 0.05, 1.950000000000001), KnotPoint{Float64, 4, 1, 5}([NaN, NaN, NaN, NaN, 0.0], [1, 2, 3, 4], [5], 0.05, 2.000000000000001), KnotPoint{Float64, 4, 1, 5}([NaN, NaN, NaN, NaN, 0.0], [1, 2, 3, 4], [5], 0.05, 2.0500000000000007), KnotPoint{Float64, 4, 1, 5}([NaN, NaN, NaN, NaN, 0.0], [1, 2, 3, 4], [5], 0.05, 2.1000000000000005), KnotPoint{Float64, 4, 1, 5}([NaN, NaN, NaN, NaN, 0.0], [1, 2, 3, 4], [5], 0.05, 2.1500000000000004), KnotPoint{Float64, 4, 1, 5}([NaN, NaN, NaN, NaN, 0.0], [1, 2, 3, 4], [5], 0.05, 2.2), KnotPoint{Float64, 4, 1, 5}([NaN, NaN, NaN, NaN, 0.0], [1, 2, 3, 4], [5], 0.05, 2.25), KnotPoint{Float64, 4, 1, 5}([NaN, NaN, NaN, NaN, 0.0], [1, 2, 3, 4], [5], 0.05, 2.3), KnotPoint{Float64, 4, 1, 5}([NaN, NaN, NaN, NaN, 0.0], [1, 2, 3, 4], [5], 0.05, 2.3499999999999996), KnotPoint{Float64, 4, 1, 5}([NaN, NaN, NaN, NaN, 0.0], [1, 2, 3, 4], [5], 0.05, 2.3999999999999995), KnotPoint{Float64, 4, 1, 5}([NaN, NaN, NaN, NaN, 0.0], [1, 2, 3, 4], [5], 0.05, 2.4499999999999993), KnotPoint{Float64, 4, 1, 5}([NaN, NaN, NaN, NaN, 0.0], [1, 2, 3, 4], [5], 0.05, 2.499999999999999), KnotPoint{Float64, 4, 1, 5}([NaN, NaN, NaN, NaN, 0.0], [1, 2, 3, 4], [5], 0.05, 2.549999999999999), KnotPoint{Float64, 4, 1, 5}([NaN, NaN, NaN, NaN, 0.0], [1, 2, 3, 4], [5], 0.05, 2.5999999999999988), KnotPoint{Float64, 4, 1, 5}([NaN, NaN, NaN, NaN, 0.0], [1, 2, 3, 4], [5], 0.05, 2.6499999999999986), KnotPoint{Float64, 4, 1, 5}([NaN, NaN, NaN, NaN, 0.0], [1, 2, 3, 4], [5], 0.05, 2.6999999999999984), KnotPoint{Float64, 4, 1, 5}([NaN, NaN, NaN, NaN, 0.0], [1, 2, 3, 4], [5], 0.05, 2.7499999999999982), KnotPoint{Float64, 4, 1, 5}([NaN, NaN, NaN, NaN, 0.0], [1, 2, 3, 4], [5], 0.05, 2.799999999999998), KnotPoint{Float64, 4, 1, 5}([NaN, NaN, NaN, NaN, 0.0], [1, 2, 3, 4], [5], 0.05, 2.849999999999998), KnotPoint{Float64, 4, 1, 5}([NaN, NaN, NaN, NaN, 0.0], [1, 2, 3, 4], [5], 0.05, 2.8999999999999977), KnotPoint{Float64, 4, 1, 5}([NaN, NaN, NaN, NaN, 0.0], [1, 2, 3, 4], [5], 0.05, 2.9499999999999975), KnotPoint{Float64, 4, 1, 5}([NaN, NaN, NaN, NaN, 0.0], [1, 2, 3, 4], [5], 0.05, 2.9999999999999973), KnotPoint{Float64, 4, 1, 5}([NaN, NaN, NaN, NaN, 0.0], [1, 2, 3, 4], [5], 0.05, 3.049999999999997), KnotPoint{Float64, 4, 1, 5}([NaN, NaN, NaN, NaN, 0.0], [1, 2, 3, 4], [5], 0.05, 3.099999999999997), KnotPoint{Float64, 4, 1, 5}([NaN, NaN, NaN, NaN, 0.0], [1, 2, 3, 4], [5], 0.05, 3.149999999999997), KnotPoint{Float64, 4, 1, 5}([NaN, NaN, NaN, NaN, 0.0], [1, 2, 3, 4], [5], 0.05, 3.1999999999999966), KnotPoint{Float64, 4, 1, 5}([NaN, NaN, NaN, NaN, 0.0], [1, 2, 3, 4], [5], 0.05, 3.2499999999999964), KnotPoint{Float64, 4, 1, 5}([NaN, NaN, NaN, NaN, 0.0], [1, 2, 3, 4], [5], 0.05, 3.2999999999999963), KnotPoint{Float64, 4, 1, 5}([NaN, NaN, NaN, NaN, 0.0], [1, 2, 3, 4], [5], 0.05, 3.349999999999996), KnotPoint{Float64, 4, 1, 5}([NaN, NaN, NaN, NaN, 0.0], [1, 2, 3, 4], [5], 0.05, 3.399999999999996), KnotPoint{Float64, 4, 1, 5}([NaN, NaN, NaN, NaN, 0.0], [1, 2, 3, 4], [5], 0.05, 3.4499999999999957), KnotPoint{Float64, 4, 1, 5}([NaN, NaN, NaN, NaN, 0.0], [1, 2, 3, 4], [5], 0.05, 3.4999999999999956), KnotPoint{Float64, 4, 1, 5}([NaN, NaN, NaN, NaN, 0.0], [1, 2, 3, 4], [5], 0.05, 3.5499999999999954), KnotPoint{Float64, 4, 1, 5}([NaN, NaN, NaN, NaN, 0.0], [1, 2, 3, 4], [5], 0.05, 3.599999999999995), KnotPoint{Float64, 4, 1, 5}([NaN, NaN, NaN, NaN, 0.0], [1, 2, 3, 4], [5], 0.05, 3.649999999999995), KnotPoint{Float64, 4, 1, 5}([NaN, NaN, NaN, NaN, 0.0], [1, 2, 3, 4], [5], 0.05, 3.699999999999995), KnotPoint{Float64, 4, 1, 5}([NaN, NaN, NaN, NaN, 0.0], [1, 2, 3, 4], [5], 0.05, 3.7499999999999947), KnotPoint{Float64, 4, 1, 5}([NaN, NaN, NaN, NaN, 0.0], [1, 2, 3, 4], [5], 0.05, 3.7999999999999945), KnotPoint{Float64, 4, 1, 5}([NaN, NaN, NaN, NaN, 0.0], [1, 2, 3, 4], [5], 0.05, 3.8499999999999943), KnotPoint{Float64, 4, 1, 5}([NaN, NaN, NaN, NaN, 0.0], [1, 2, 3, 4], [5], 0.05, 3.899999999999994), KnotPoint{Float64, 4, 1, 5}([NaN, NaN, NaN, NaN, 0.0], [1, 2, 3, 4], [5], 0.05, 3.949999999999994), KnotPoint{Float64, 4, 1, 5}([NaN, NaN, NaN, NaN, 0.0], [1, 2, 3, 4], [5], 0.05, 3.999999999999994), KnotPoint{Float64, 4, 1, 5}([NaN, NaN, NaN, NaN, 0.0], [1, 2, 3, 4], [5], 0.05, 4.049999999999994), KnotPoint{Float64, 4, 1, 5}([NaN, NaN, NaN, NaN, 0.0], [1, 2, 3, 4], [5], 0.05, 4.099999999999993), KnotPoint{Float64, 4, 1, 5}([NaN, NaN, NaN, NaN, 0.0], [1, 2, 3, 4], [5], 0.05, 4.149999999999993), KnotPoint{Float64, 4, 1, 5}([NaN, NaN, NaN, NaN, 0.0], [1, 2, 3, 4], [5], 0.05, 4.199999999999993), KnotPoint{Float64, "
     ]
    },
    {
     "name": "stdout",
     "output_type": "stream",
     "text": [
      "4, 1, 5}([NaN, NaN, NaN, NaN, 0.0], [1, 2, 3, 4], [5], 0.05, 4.249999999999993), KnotPoint{Float64, 4, 1, 5}([NaN, NaN, NaN, NaN, 0.0], [1, 2, 3, 4], [5], 0.05, 4.299999999999993), KnotPoint{Float64, 4, 1, 5}([NaN, NaN, NaN, NaN, 0.0], [1, 2, 3, 4], [5], 0.05, 4.3499999999999925), KnotPoint{Float64, 4, 1, 5}([NaN, NaN, NaN, NaN, 0.0], [1, 2, 3, 4], [5], 0.05, 4.399999999999992), KnotPoint{Float64, 4, 1, 5}([NaN, NaN, NaN, NaN, 0.0], [1, 2, 3, 4], [5], 0.05, 4.449999999999992), KnotPoint{Float64, 4, 1, 5}([NaN, NaN, NaN, NaN, 0.0], [1, 2, 3, 4], [5], 0.05, 4.499999999999992), KnotPoint{Float64, 4, 1, 5}([NaN, NaN, NaN, NaN, 0.0], [1, 2, 3, 4], [5], 0.05, 4.549999999999992), KnotPoint{Float64, 4, 1, 5}([NaN, NaN, NaN, NaN, 0.0], [1, 2, 3, 4], [5], 0.05, 4.599999999999992), KnotPoint{Float64, 4, 1, 5}([NaN, NaN, NaN, NaN, 0.0], [1, 2, 3, 4], [5], 0.05, 4.6499999999999915), KnotPoint{Float64, 4, 1, 5}([NaN, NaN, NaN, NaN, 0.0], [1, 2, 3, 4], [5], 0.05, 4.699999999999991), KnotPoint{Float64, 4, 1, 5}([NaN, NaN, NaN, NaN, 0.0], [1, 2, 3, 4], [5], 0.05, 4.749999999999991), KnotPoint{Float64, 4, 1, 5}([NaN, NaN, NaN, NaN, 0.0], [1, 2, 3, 4], [5], 0.05, 4.799999999999991), KnotPoint{Float64, 4, 1, 5}([NaN, NaN, NaN, NaN, 0.0], [1, 2, 3, 4], [5], 0.05, 4.849999999999991), KnotPoint{Float64, 4, 1, 5}([NaN, NaN, NaN, NaN, 0.0], [1, 2, 3, 4], [5], 0.05, 4.899999999999991), KnotPoint{Float64, 4, 1, 5}([NaN, NaN, NaN, NaN, 0.0], [1, 2, 3, 4], [5], 0.05, 4.94999999999999), KnotPoint{Float64, 4, 1, 5}([NaN, NaN, NaN, NaN, 0.0], [1, 2, 3, 4], [5], 0.0, 4.99999999999999)]"
     ]
    }
   ],
   "source": [
    "# Set up problem using TrajectoryOptimization.jl and RobotZoo.jl\n",
    "using TrajectoryOptimization\n",
    "using Altro\n",
    "import RobotZoo.Cartpole\n",
    "using StaticArrays, LinearAlgebra\n",
    "using RobotDynamics\n",
    "\n",
    "\n",
    "# Use the Cartpole model from RobotZoo\n",
    "model = Cartpole()\n",
    "print(typeof(dynamics(model, [0,0,0,0], [0,0])))\n",
    "n,m = size(model)\n",
    "\n",
    "# Define model discretization\n",
    "N = 101\n",
    "tf = 5.\n",
    "dt = tf/(N-1)\n",
    "\n",
    "# Define initial and final conditions\n",
    "x0 = @SVector zeros(n)\n",
    "xf = @SVector [0, pi, 0, 0]  # i.e. swing up\n",
    "\n",
    "# Set up\n",
    "Q = 1.0e-2*Diagonal(@SVector ones(n))\n",
    "Qf = 100.0*Diagonal(@SVector ones(n))\n",
    "R = 1.0e-1*Diagonal(@SVector ones(m))\n",
    "obj = LQRObjective(Q,R,Qf,xf,N)\n",
    "\n",
    "# Add constraints\n",
    "conSet = ConstraintList(n,m,N)\n",
    "u_bnd = 3.0\n",
    "bnd = BoundConstraint(n,m, u_min=-u_bnd, u_max=u_bnd)\n",
    "goal = GoalConstraint(xf)\n",
    "add_constraint!(conSet, bnd, 1:N-1)\n",
    "add_constraint!(conSet, goal, N)\n",
    "\n",
    "# Initialization\n",
    "u0 = @SVector fill(0.01,m)\n",
    "U0 = [u0 for k = 1:N-1]\n",
    "\n",
    "# Define problem\n",
    "prob = Problem(model, obj, xf, tf, x0=x0, constraints=conSet)\n",
    "initial_controls!(prob, U0)"
   ]
  },
  {
   "cell_type": "code",
   "execution_count": 21,
   "id": "22fba4bb",
   "metadata": {},
   "outputs": [
    {
     "name": "stdout",
     "output_type": "stream",
     "text": [
      "\u001b[32;1m\n",
      "SOLVE COMPLETED\n",
      "\u001b[0m solved using the \u001b[0m\u001b[36;1mALTRO\u001b[0m Solver,\n",
      " part of the Altro.jl package developed by the REx Lab at Stanford and Carnegie Mellon Universities\n",
      "\u001b[34;1m\n",
      "  Solve Statistics\n",
      "\u001b[0m    Total Iterations: 40\n",
      "\u001b[0m    Solve Time: 9.01524 (ms)\n",
      "\u001b[34;1m\n",
      "  Covergence\n",
      "\u001b[0m    Terminal Cost: 1.5525585573254304\n",
      "\u001b[0m    Terminal dJ: \u001b[32m-0.0010405745407844336\n",
      "\u001b[0m    Terminal gradient: \u001b[32m0.0031063488952173747\n",
      "\u001b[0m    Terminal constraint violation: \u001b[32m3.4246685487460127e-9\n",
      "\u001b[0m    Solve Status: \u001b[1m\u001b[32mSOLVE_SUCCEEDED\n",
      "\u001b[0m"
     ]
    },
    {
     "data": {
      "text/plain": [
       "Dict{Symbol, Vector{T} where T} with 8 entries:\n",
       "  :gradient        => [8.27255, 4.40518, 4.30212, 3.52867, 2.87592, 2.90092, 2.…\n",
       "  :cost            => [282.804, 231.756, 191.992, 154.303, 133.008, 95.1665, 91…\n",
       "  :iteration_pn    => Bool[0, 0, 0, 0, 0, 0, 0, 0, 0, 0  …  0, 0, 0, 0, 0, 0, 0…\n",
       "  :iteration       => [1, 2, 3, 4, 5, 6, 7, 8, 9, 10  …  31, 32, 33, 34, 35, 36…\n",
       "  :c_max           => [0.0, 0.0, 0.0, 0.0, 0.0, 0.0, 0.0, 0.0, 0.0, 0.0  …  0.0…\n",
       "  :penalty_max     => [0.0, 0.0, 0.0, 0.0, 0.0, 0.0, 0.0, 0.0, 0.0, 0.0  …  0.0…\n",
       "  :iteration_outer => [0, 0, 0, 0, 0, 0, 0, 0, 0, 0  …  0, 0, 0, 1, 2, 2, 3, 3,…\n",
       "  :dJ              => [216.591, 51.0479, 39.7642, 37.6884, 21.2952, 37.8415, 3.…"
      ]
     },
     "execution_count": 21,
     "metadata": {},
     "output_type": "execute_result"
    }
   ],
   "source": [
    "# Solve with ALTRO\n",
    "opts = SolverOptions(\n",
    "    cost_tolerance_intermediate=1e-2,\n",
    "    penalty_scaling=10.,\n",
    "    penalty_initial=1.0\n",
    ")\n",
    "altro = ALTROSolver(prob, opts)\n",
    "solve!(altro)\n",
    "\n",
    "# Get some info on the solve\n",
    "max_violation(altro)  # 3.42e-9\n",
    "cost(altro)           # 1.55\n",
    "iterations(altro)     # 40\n",
    "\n",
    "# Extract the solution\n",
    "X = states(altro)\n",
    "U = controls(altro)\n",
    "\n",
    "# Extract the solver statistics\n",
    "stats = Altro.stats(altro)  # alternatively, solver.stats\n",
    "stats.iterations             # 40, equivalent to iterations(solver)\n",
    "stats.iterations_outer       # 4 (number of Augmented Lagrangian iterations)\n",
    "stats.iterations_pn          # 1 (number of projected newton iterations)\n",
    "stats.cost[end]              # terminal cost\n",
    "stats.c_max[end]             # terminal constraint satisfaction\n",
    "stats.gradient[end]          # terminal gradient of the Lagrangian\n",
    "dstats = Dict(stats)         # get the per-iteration stats as a dictionary (can be converted to DataFrame)"
   ]
  },
  {
   "cell_type": "code",
   "execution_count": null,
   "id": "631673a4",
   "metadata": {},
   "outputs": [],
   "source": []
  }
 ],
 "metadata": {
  "kernelspec": {
   "display_name": "Julia 1.6.5",
   "language": "julia",
   "name": "julia-1.6"
  },
  "language_info": {
   "file_extension": ".jl",
   "mimetype": "application/julia",
   "name": "julia",
   "version": "1.6.5"
  }
 },
 "nbformat": 4,
 "nbformat_minor": 5
}
