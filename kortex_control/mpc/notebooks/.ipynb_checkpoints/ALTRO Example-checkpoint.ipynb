{
 "cells": [
  {
   "cell_type": "code",
   "execution_count": 19,
   "id": "f9636650",
   "metadata": {},
   "outputs": [
    {
     "ename": "LoadError",
     "evalue": "UndefVarError: RobotZoo not defined",
     "output_type": "error",
     "traceback": [
      "UndefVarError: RobotZoo not defined",
      "",
      "Stacktrace:",
      " [1] top-level scope",
      "   @ In[19]:3",
      " [2] eval",
      "   @ ./boot.jl:360 [inlined]",
      " [3] include_string(mapexpr::typeof(REPL.softscope), mod::Module, code::String, filename::String)",
      "   @ Base ./loading.jl:1116"
     ]
    }
   ],
   "source": [
    "# Set up problem using TrajectoryOptimization.jl and RobotZoo.jl\n",
    "using TrajectoryOptimization\n",
    "using Altro\n",
    "import RobotZoo.Cartpole\n",
    "using StaticArrays, LinearAlgebra\n",
    "using RobotDynamics\n",
    "\n",
    "\n",
    "# Use the Cartpole model from RobotZoo\n",
    "model = Cartpole()\n",
    "print(typeof(dynamics(model, [0,0,0,0], [0,0])))\n",
    "n,m = size(model)\n",
    "\n",
    "# Define model discretization\n",
    "N = 101\n",
    "tf = 5.\n",
    "dt = tf/(N-1)\n",
    "\n",
    "# Define initial and final conditions\n",
    "x0 = @SVector zeros(n)\n",
    "xf = @SVector [0, pi, 0, 0]  # i.e. swing up\n",
    "\n",
    "# Set up\n",
    "Q = 1.0e-2*Diagonal(@SVector ones(n))\n",
    "Qf = 100.0*Diagonal(@SVector ones(n))\n",
    "R = 1.0e-1*Diagonal(@SVector ones(m))\n",
    "obj = LQRObjective(Q,R,Qf,xf,N)\n",
    "\n",
    "# Add constraints\n",
    "conSet = ConstraintList(n,m,N)\n",
    "u_bnd = 3.0\n",
    "bnd = BoundConstraint(n,m, u_min=-u_bnd, u_max=u_bnd)\n",
    "goal = GoalConstraint(xf)\n",
    "add_constraint!(conSet, bnd, 1:N-1)\n",
    "add_constraint!(conSet, goal, N)\n",
    "\n",
    "# Initialization\n",
    "u0 = @SVector fill(0.01,m)\n",
    "U0 = [u0 for k = 1:N-1]\n",
    "\n",
    "# Define problem\n",
    "prob = Problem(model, obj, xf, tf, x0=x0, constraints=conSet)\n",
    "initial_controls!(prob, U0)"
   ]
  },
  {
   "cell_type": "code",
   "execution_count": 7,
   "id": "22fba4bb",
   "metadata": {},
   "outputs": [
    {
     "ename": "LoadError",
     "evalue": "BoundsError: attempt to access 0-element Vector{Base.StackTraces.StackFrame} at index [1]",
     "output_type": "error",
     "traceback": [
      "BoundsError: attempt to access 0-element Vector{Base.StackTraces.StackFrame} at index [1]",
      "",
      "Stacktrace:",
      " [1] getindex(A::Vector{Base.StackTraces.StackFrame}, i1::Int64)",
      "   @ Base ./array.jl:805",
      " [2] top-level scope",
      "   @ In[7]:8",
      " [3] eval",
      "   @ ./boot.jl:360 [inlined]",
      " [4] include_string(mapexpr::typeof(REPL.softscope), mod::Module, code::String, filename::String)",
      "   @ Base ./loading.jl:1116"
     ]
    }
   ],
   "source": [
    "# Solve with ALTRO\n",
    "opts = SolverOptions(\n",
    "    cost_tolerance_intermediate=1e-2,\n",
    "    penalty_scaling=10.,\n",
    "    penalty_initial=1.0\n",
    ")\n",
    "altro = ALTROSolver(prob, opts)\n",
    "print(stacktrace(catch_backtrace()))\n",
    "solve!(altro)\n",
    "\n",
    "# Get some info on the solve\n",
    "max_violation(altro)  # 3.42e-9\n",
    "cost(altro)           # 1.55\n",
    "iterations(altro)     # 40\n",
    "\n",
    "# Extract the solution\n",
    "X = states(altro)\n",
    "U = controls(altro)\n",
    "\n",
    "# Extract the solver statistics\n",
    "stats = Altro.stats(altro)  # alternatively, solver.stats\n",
    "stats.iterations             # 40, equivalent to iterations(solver)\n",
    "stats.iterations_outer       # 4 (number of Augmented Lagrangian iterations)\n",
    "stats.iterations_pn          # 1 (number of projected newton iterations)\n",
    "stats.cost[end]              # terminal cost\n",
    "stats.c_max[end]             # terminal constraint satisfaction\n",
    "stats.gradient[end]          # terminal gradient of the Lagrangian\n",
    "dstats = Dict(stats)         # get the per-iteration stats as a dictionary (can be converted to DataFrame)"
   ]
  },
  {
   "cell_type": "code",
   "execution_count": null,
   "id": "631673a4",
   "metadata": {},
   "outputs": [],
   "source": []
  }
 ],
 "metadata": {
  "kernelspec": {
   "display_name": "Julia 1.6.5",
   "language": "julia",
   "name": "julia-1.6"
  },
  "language_info": {
   "file_extension": ".jl",
   "mimetype": "application/julia",
   "name": "julia",
   "version": "1.6.5"
  }
 },
 "nbformat": 4,
 "nbformat_minor": 5
}
