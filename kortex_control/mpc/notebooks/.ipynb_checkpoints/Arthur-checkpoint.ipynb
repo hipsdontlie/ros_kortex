{
 "cells": [
  {
   "cell_type": "code",
   "execution_count": 1,
   "id": "93519ab6",
   "metadata": {},
   "outputs": [],
   "source": [
    "using RigidBodyDynamics\n",
    "using StaticArrays\n",
    "using Parameters\n",
    "using RobotDynamics\n",
    "using Rotations\n",
    "using LinearAlgebra\n",
    "using ForwardDiff"
   ]
  },
  {
   "cell_type": "code",
   "execution_count": 2,
   "id": "6338b2db",
   "metadata": {},
   "outputs": [
    {
     "data": {
      "text/plain": [
       "Arthur"
      ]
     },
     "execution_count": 2,
     "metadata": {},
     "output_type": "execute_result"
    }
   ],
   "source": [
    "# Defining Arthur model using RigidBodyDynamics\n",
    "struct Arthur{C} <: AbstractModel\n",
    "    mechanism::Mechanism{Float64}\n",
    "    statecache::C\n",
    "    dyncache::DynamicsResultCache{Float64}\n",
    "    Be::Matrix{Float64}\n",
    "    function Arthur(mechanism::Mechanism)\n",
    "        statecache = StateCache(mechanism)\n",
    "        rescache = DynamicsResultCache(mechanism)\n",
    "        Be = zeros(6,6)\n",
    "        new{typeof(statecache)}(mech, statecache, rescache, Be)\n",
    "    end\n",
    "end\n",
    "\n",
    "#TODO: Change Path\n",
    "Arthur(; mechanism=RigidBodyDynamics.URDF.parse_urdf(\"../../../kortex_description/arms/gen3/7dof/urdf/GEN3_URDF_V12 copy.urdf\", remove_fixed_tree_joints = false)) = Arthur(mechanism)"
   ]
  },
  {
   "cell_type": "code",
   "execution_count": 3,
   "id": "36bed116",
   "metadata": {},
   "outputs": [],
   "source": [
    "# State, s, is [q q̇ x ẋ F]\n",
    "# x will be input from the camera\n",
    "# q, q̇, ẋ will be taken or derived from the arm\n",
    "# F will be input from the F/T Sensor\n",
    "# Input, u, is Torque (τ)\n",
    "function RobotDynamics.dynamics(model::Arthur, x::AbstractVector{T1}, u::AbstractVector{T2}) where {T1,T2} \n",
    "    # Create a state of the mechanism model and a result struct for the dynamics\n",
    "    T = promote_type(T1,T2)\n",
    "    state = model.statecache[T]\n",
    "    res = model.dyncache[T]\n",
    "    \n",
    "    # Get states and constants of system not dependent on model state\n",
    "    num_q = RigidBodyDynamics.num_positions(model.mechanism)\n",
    "    q = x[1:num_q]\n",
    "    q̇ = x[num_q+1:2*num_q]\n",
    "    p = x[2*num_q + 1:2*num_q + 6]\n",
    "    ṗ = x[2*num_q + 7:2*num_q + 12]\n",
    "    F = x[2*num_q + 13:2*num_q + 18]\n",
    "    Be = zeros(T, 6, 6)\n",
    "    \n",
    "#     if (norm(ṗ) > 1e-5)\n",
    "#         for k = 1:6\n",
    "#             Be[k,k] = norm(F) / norm(ṗ)\n",
    "#         end\n",
    "#     end\n",
    "    \n",
    "    # Set mechanism state to current state\n",
    "    copyto!(state, x[1:2*num_q])\n",
    "    \n",
    "#     w = Wrench{T}(default_frame(bodies(model.mechanism)[end-1]), F[4:6], F[1:3])\n",
    "#     wrenches = BodyDict{Wrench{T}}(b => zero(Wrench{T}, root_frame(model.mechanism)) for b in bodies(model.mechanism))\n",
    "#     wrenches[bodies(model.mechanism)[end-1].id] = transform(w, transform_to_root(mechanismState, bodies(model.mechanism)[end-1]))    dynamics!(dynamicsResult, mechanismState, u, wrenches)\n",
    "\n",
    "    dynamics!(res, state, u)\n",
    "    \n",
    "    q̈ = res.v̇\n",
    "    p̈ = [res.accelerations[bodies(model.mechanism)[end].id].linear; res.accelerations[bodies(model.mechanism)[end].id].angular]\n",
    "    Ḟ = Be*p̈\n",
    "    return SVector{32}([res.q̇; q̈; ṗ; p̈; Ḟ])\n",
    "end\n",
    "\n",
    "RobotDynamics.state_dim(::Arthur) = 32\n",
    "RobotDynamics.control_dim(::Arthur) = 7"
   ]
  },
  {
   "cell_type": "code",
   "execution_count": 5,
   "id": "4232a53c",
   "metadata": {},
   "outputs": [
    {
     "name": "stdout",
     "output_type": "stream",
     "text": [
      "FreeVector3D in \"world\": [0.0, 0.0, -9.81][0.0, 0.0, 0.0, 0.0, 0.0, 0.0, 0.0, 0.12002174598444805, 0.15832793595897215, -2.0445209801704283, -3.0733176145180745, 4.52166977655195, 9.570781093452563, 146.26706470438666, 0.0, 0.0, 0.0, 0.0, 0.0, 0.0, 0.0, 0.0, 9.81, 0.0, 0.0, 0.0, 0.0, 0.0, 0.0, 0.0, 0.0, 0.0]"
     ]
    }
   ],
   "source": [
    "model = Arthur()\n",
    "print((RobotDynamics.dynamics(model, zeros(32), 0.1*ones(7))))"
   ]
  },
  {
   "cell_type": "code",
   "execution_count": 75,
   "id": "87426b72",
   "metadata": {},
   "outputs": [
    {
     "name": "stdout",
     "output_type": "stream",
     "text": [
      "[0.8696004300432425, 0.7057441188247451, 0.08746677084460064, 0.7077920045486048, 0.1578896665213998, 0.06399217179072769, 0.16020516457111156]\n",
      "\n",
      "[0.5181680395922416, 0.013534196412353927, 9.986683136337955, 0.4621751973861481, -0.7266713791553054, -0.009713552254769608]"
     ]
    }
   ],
   "source": [
    "model = Arthur()\n",
    "mechanismState = RigidBodyDynamics.MechanismState(model.mechanism)\n",
    "rootframe = root_frame(model.mechanism)\n",
    "# print(typeof(transform_to_root(mechanismState, bodies(model.mechanism)[end])))\n",
    "# print(\"\\n\\n\")\n",
    "dynamicsResult = RigidBodyDynamics.DynamicsResult(model.mechanism)\n",
    "# print(dynamicsResult)\n",
    "# print(\"\\n\\n\")\n",
    "RigidBodyDynamics.set_configuration!(mechanismState, rand(Float64, 7))\n",
    "RigidBodyDynamics.set_velocity!(mechanismState, rand(Float64, 7))\n",
    "wrenches = BodyDict{Wrench{Float64}}(b => zero(Wrench{Float64}, rootframe) for b in bodies(model.mechanism))\n",
    "angular = [0, 0.1, 0.2]\n",
    "linear = [2, 1, 16]\n",
    "w = Wrench(default_frame(bodies(model.mechanism)[end]), angular, linear)\n",
    "# print(transform(w, transform_to_root(mechanismState, bodies(model.mechanism)[end])))\n",
    "# print(\"\\n\\n\")\n",
    "wrenches[bodies(model.mechanism)[end].id] = transform(w, transform_to_root(mechanismState, bodies(model.mechanism)[end]))\n",
    "# print(wrenches)\n",
    "u = zeros(7)\n",
    "u[7] = 10\n",
    "dynamics!(dynamicsResult, mechanismState, u, wrenches)\n",
    "print(mechanismState.v)\n",
    "print(\"\\n\\n\")\n",
    "print([dynamicsResult.accelerations[bodies(model.mechanism)[end].id].linear; dynamicsResult.accelerations[bodies(model.mechanism)[end].id].angular])\n",
    "# J1 = getJacobian(model, 0.5*ones(7), 0.2*ones(7))\n",
    "# J2 = getJacobian(model, 0.5*ones(7), 0.1*ones(7))\n",
    "# print(J1-J2)\n",
    "# print(\"\\n\\n\")\n",
    "# ẋ1 = getẊ(model, 0.5*ones(7), 0.2*ones(7))\n",
    "# ẋ2 = getẊ(model, 0.5*ones(7), 0.2*ones(7))\n",
    "# print(ẋ1-ẋ2)\n",
    "# print(\"\\n\\n\")\n",
    "# print(typeof(getẊ(model, J, zeros(7), 0.1*ones(7))))\n",
    "# print(getJ̇(model, 0.5*ones(7), 0.2*ones(7)))\n",
    "# print(typeof(RobotDynamics.dynamics(model, zeros(32), 0.1*ones(7))))"
   ]
  },
  {
   "cell_type": "code",
   "execution_count": null,
   "id": "fc7220b3",
   "metadata": {},
   "outputs": [],
   "source": [
    "# # State, s, is [q q̇ x ẋ F]\n",
    "# # x will be input from the camera\n",
    "# # q, q̇, ẋ will be taken or derived from the arm\n",
    "# # F will be input from the F/T Sensor\n",
    "# # Input, u, is Torque (τ)\n",
    "# function RobotDynamics.dynamics(model::Arthur, s, u)\n",
    "#     # Create a state of the mechanism model and a result struct for the dynamics\n",
    "#     dynamicsResult = RigidBodyDynamics.DynamicsResult(model.mechanism)\n",
    "#     mechanismState = RigidBodyDynamics.MechanismState(model.mechanism)\n",
    "    \n",
    "#     # Get states and constants of system not dependent on model state\n",
    "#     M = RigidBodyDynamics.mass_matrix(mechanismState)\n",
    "#     num_q = RigidBodyDynamics.num_positions(model.mechanism)\n",
    "#     q = s[1:num_q]\n",
    "#     q̇ = s[num_q+1:2*num_q]\n",
    "#     x = s[2*num_q + 1:2*num_q + 6]\n",
    "#     ẋ = s[2*num_q + 7:2*num_q + 12]\n",
    "#     F = s[2*num_q + 13:2*num_q + 18]\n",
    "#     Be = zeros(6, 6)\n",
    "#     if (norm(ẋ) > 1e-5)\n",
    "#         for k = 1:3\n",
    "#             Be[k,k] = norm(F) / norm(ẋ)\n",
    "#         end\n",
    "#     end\n",
    "    \n",
    "#     # Set mechanism state to current state\n",
    "#     RigidBodyDynamics.set_configuration!(mechanismState, q)\n",
    "#     RigidBodyDynamics.set_velocity!(mechanismState, q̇)\n",
    "    \n",
    "#     # Get variables dependent on state\n",
    "#     J = getJacobian(model, q, q̇)\n",
    "#     τ_ext = transpose(J)*F\n",
    "    \n",
    "#     # Calculate dynamics\n",
    "#     RigidBodyDynamics.dynamics!(dynamicsResult, mechanismState, u)\n",
    "#     # Add the effects of external forces/torques into dynamics\n",
    "#     q̈ = M\\((M * dynamicsResult.v̇) - τ_ext)\n",
    "#     ẍ = getJ̇(model, q, q̇)*q̇ + J*q̈\n",
    "#     Ḟ = Be*ẍ\n",
    "#     return [q̇; q̈; ẋ; ẍ; Ḟ]\n",
    "# end\n",
    "\n",
    "# function getJacobian(model::Arthur, q,  q̇)\n",
    "#     mechanismState = RigidBodyDynamics.MechanismState(model.mechanism)\n",
    "#     RigidBodyDynamics.set_configuration!(mechanismState, q)\n",
    "#     RigidBodyDynamics.set_velocity!(mechanismState, q̇)\n",
    "#     p = RigidBodyDynamics.path(model.mechanism, RigidBodyDynamics.root_body(model.mechanism), RigidBodyDynamics.bodies(model.mechanism)[end])\n",
    "#     J_data = RigidBodyDynamics.geometric_jacobian(mechanismState, p)\n",
    "# #     print(typeof([J_data.linear; J_data.angular]))\n",
    "#     return [J_data.linear; J_data.angular]\n",
    "# end\n",
    "\n",
    "# function getẊ(model::Arthur, q, q̇)\n",
    "#     J = getJacobian(model, q, q̇)\n",
    "#     ẋ = J*q̇\n",
    "# #     print(typeof(ẋ))\n",
    "#     return ẋ\n",
    "# end\n",
    "\n",
    "# function getJ̇(model::Arthur, q, q̇)\n",
    "#     return ForwardDiff.jacobian(dq -> getẊ(model, dq, q̇), q)\n",
    "# end"
   ]
  },
  {
   "cell_type": "code",
   "execution_count": null,
   "id": "b4ab2659",
   "metadata": {},
   "outputs": [],
   "source": []
  }
 ],
 "metadata": {
  "kernelspec": {
   "display_name": "Julia 1.6.5",
   "language": "julia",
   "name": "julia-1.6"
  },
  "language_info": {
   "file_extension": ".jl",
   "mimetype": "application/julia",
   "name": "julia",
   "version": "1.6.5"
  }
 },
 "nbformat": 4,
 "nbformat_minor": 5
}
