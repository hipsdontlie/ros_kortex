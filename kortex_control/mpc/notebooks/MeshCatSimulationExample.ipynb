{
 "cells": [
  {
   "cell_type": "code",
   "execution_count": 45,
   "id": "efff4969",
   "metadata": {},
   "outputs": [],
   "source": [
    "using RigidBodyDynamics\n",
    "using StaticArrays\n",
    "using MeshCat, MeshCatMechanisms, Blink\n",
    "using Random\n",
    "Random.seed!(42);"
   ]
  },
  {
   "cell_type": "code",
   "execution_count": 46,
   "id": "9bfde034",
   "metadata": {},
   "outputs": [
    {
     "data": {
      "text/plain": [
       "Spanning tree:\n",
       "Vertex: world (root)\n",
       "  Vertex: upper_link, Edge: shoulder\n",
       "    Vertex: lower_link, Edge: elbow\n",
       "No non-tree joints."
      ]
     },
     "execution_count": 46,
     "metadata": {},
     "output_type": "execute_result"
    }
   ],
   "source": [
    "srcdir = dirname(pathof(RigidBodyDynamics))\n",
    "urdf = joinpath(srcdir, \"..\", \"test\", \"urdf\", \"Acrobot.urdf\")\n",
    "mechanism = parse_urdf(urdf)\n",
    "state = MechanismState(mechanism)\n",
    "mechanism"
   ]
  },
  {
   "cell_type": "code",
   "execution_count": 47,
   "id": "8031e6ff",
   "metadata": {},
   "outputs": [
    {
     "data": {
      "text/plain": [
       "Point3D in \"after_elbow\": [0.0, 0.0, -2.0]"
      ]
     },
     "execution_count": 47,
     "metadata": {},
     "output_type": "execute_result"
    }
   ],
   "source": [
    "body = findbody(mechanism, \"lower_link\")\n",
    "point = Point3D(default_frame(body), 0., 0, -2)"
   ]
  },
  {
   "cell_type": "code",
   "execution_count": 48,
   "id": "3f425de3",
   "metadata": {},
   "outputs": [
    {
     "name": "stderr",
     "output_type": "stream",
     "text": [
      "┌ Info: MeshCat server started. You can open the visualizer by visiting the following URL in your browser:\n",
      "│ http://127.0.0.1:8708\n",
      "└ @ MeshCat /home/amkyu/.julia/packages/MeshCat/Ax8pH/src/visualizer.jl:73\n"
     ]
    },
    {
     "data": {
      "text/plain": [
       "MeshCat Visualizer with path /meshcat/world/upper_link/lower_link/after_elbow/<element> at http://127.0.0.1:8708"
      ]
     },
     "execution_count": 48,
     "metadata": {},
     "output_type": "execute_result"
    }
   ],
   "source": [
    "# Create the visualizer\n",
    "vis = MechanismVisualizer(mechanism, URDFVisuals(urdf))\n",
    "\n",
    "# Render our target point attached to the robot as a sphere with radius 0.07\n",
    "setelement!(vis, point, 0.07)"
   ]
  },
  {
   "cell_type": "code",
   "execution_count": 49,
   "id": "7182eb08",
   "metadata": {},
   "outputs": [
    {
     "name": "stderr",
     "output_type": "stream",
     "text": [
      "┌ Info: MeshCat server started. You can open the visualizer by visiting the following URL in your browser:\n",
      "│ http://127.0.0.1:8709\n",
      "└ @ MeshCat /home/amkyu/.julia/packages/MeshCat/Ax8pH/src/visualizer.jl:73\n"
     ]
    },
    {
     "data": {
      "text/plain": [
       "MechanismVisualizer{MechanismState{Float64, Float64, Float64, TypeSortedCollections.TypeSortedCollection{Tuple{Vector{Joint{Float64, Revolute{Float64}}}}, 1}}, Visualizer}(MechanismState{Float64, Float64, Float64, …}(…), MeshCat Visualizer with path /meshcat at http://127.0.0.1:8709, 5)"
      ]
     },
     "execution_count": 49,
     "metadata": {},
     "output_type": "execute_result"
    }
   ],
   "source": [
    "open(vis, Window());\n",
    "mvis = MechanismVisualizer(mechanism, URDFVisuals(urdf))"
   ]
  },
  {
   "cell_type": "code",
   "execution_count": 35,
   "id": "05528b29",
   "metadata": {},
   "outputs": [
    {
     "data": {
      "text/plain": [
       "jacobian_transpose_ik! (generic function with 1 method)"
      ]
     },
     "execution_count": 35,
     "metadata": {},
     "output_type": "execute_result"
    }
   ],
   "source": [
    "function jacobian_transpose_ik!(state::MechanismState,\n",
    "                               body::RigidBody,\n",
    "                               point::Point3D,\n",
    "                               desired::Point3D;\n",
    "                               α=0.1,\n",
    "                               iterations=100)\n",
    "    mechanism = state.mechanism\n",
    "    world = root_frame(mechanism)\n",
    "\n",
    "    # Compute the joint path from world to our target body\n",
    "    p = path(mechanism, root_body(mechanism), body)\n",
    "    # Allocate the point jacobian (we'll update this in-place later)\n",
    "    Jp = point_jacobian(state, p, transform(state, point, world))\n",
    "\n",
    "    q = copy(configuration(state))\n",
    "\n",
    "    for i in 1:iterations\n",
    "        # Update the position of the point\n",
    "        point_in_world = transform(state, point, world)\n",
    "        # Update the point's jacobian\n",
    "        point_jacobian!(Jp, state, p, point_in_world)\n",
    "        # Compute an update in joint coordinates using the jacobian transpose\n",
    "        Δq = α * Array(Jp)' * (transform(state, desired, world) - point_in_world).v\n",
    "        # Apply the update\n",
    "        q .= configuration(state) .+ Δq\n",
    "        set_configuration!(state, q)\n",
    "    end\n",
    "    state\n",
    "end"
   ]
  },
  {
   "cell_type": "code",
   "execution_count": 36,
   "id": "305a9454",
   "metadata": {},
   "outputs": [],
   "source": [
    "rand!(state)\n",
    "set_configuration!(vis, configuration(state))"
   ]
  },
  {
   "cell_type": "code",
   "execution_count": 37,
   "id": "3222df50",
   "metadata": {},
   "outputs": [
    {
     "data": {
      "text/plain": [
       "Point3D in \"world\": [0.5, 0.0, 2.0]"
      ]
     },
     "execution_count": 37,
     "metadata": {},
     "output_type": "execute_result"
    }
   ],
   "source": [
    "desired_tip_location = Point3D(root_frame(mechanism), 0.5, 0, 2)"
   ]
  },
  {
   "cell_type": "code",
   "execution_count": 38,
   "id": "1fbb1add",
   "metadata": {},
   "outputs": [],
   "source": [
    "jacobian_transpose_ik!(state, body, point, desired_tip_location)\n",
    "set_configuration!(vis, configuration(state))"
   ]
  },
  {
   "cell_type": "code",
   "execution_count": 39,
   "id": "296f43a6",
   "metadata": {},
   "outputs": [
    {
     "data": {
      "text/plain": [
       "Point3D in \"world\": [0.5000119896268409, 0.25, 2.002359458411753]"
      ]
     },
     "execution_count": 39,
     "metadata": {},
     "output_type": "execute_result"
    }
   ],
   "source": [
    "transform(state, point, root_frame(mechanism))"
   ]
  },
  {
   "cell_type": "code",
   "execution_count": 40,
   "id": "21ac11ea",
   "metadata": {},
   "outputs": [
    {
     "data": {
      "text/plain": [
       "SegmentedVector{JointID, Float64, Base.OneTo{JointID}, Vector{Float64}}[]"
      ]
     },
     "execution_count": 40,
     "metadata": {},
     "output_type": "execute_result"
    }
   ],
   "source": [
    "qs = typeof(configuration(state))[]"
   ]
  },
  {
   "cell_type": "code",
   "execution_count": 41,
   "id": "cc4f607e",
   "metadata": {},
   "outputs": [],
   "source": [
    "for x in range(-1, stop=1, length=100)\n",
    "    desired = Point3D(root_frame(mechanism), x, 0, 2)\n",
    "    jacobian_transpose_ik!(state, body, point, desired)\n",
    "    push!(qs, copy(configuration(state)))\n",
    "end\n",
    "ts = collect(range(0, stop=1, length=length(qs)))\n",
    "setanimation!(vis, Animation(vis, ts, qs))"
   ]
  },
  {
   "cell_type": "code",
   "execution_count": 42,
   "id": "c3c4dd14",
   "metadata": {},
   "outputs": [
    {
     "data": {
      "text/plain": [
       "MeshCat Visualizer with path /meshcat/circle at http://127.0.0.1:8706"
      ]
     },
     "execution_count": 42,
     "metadata": {},
     "output_type": "execute_result"
    }
   ],
   "source": [
    "circle_origin = SVector(0., 0.25, 2)\n",
    "radius = 0.5\n",
    "ω = 1.0  # radians per second at which the point should move in its circle\n",
    "\n",
    "using GeometryTypes: Point\n",
    "\n",
    "# Draw the circle in the viewer\n",
    "θ = repeat(range(0, stop=2π, length=100), inner=(2,))[2:end]\n",
    "cx, cy, cz = circle_origin\n",
    "geometry = PointCloud(Point.(cx .+ radius .* sin.(θ), cy, cz .+ 0.5 .* cos.(θ)))\n",
    "setobject!(vis[:circle], LineSegments(geometry, LineBasicMaterial()))"
   ]
  },
  {
   "cell_type": "code",
   "execution_count": 43,
   "id": "278d34eb",
   "metadata": {},
   "outputs": [],
   "source": [
    "function make_circle_controller(state::MechanismState,\n",
    "                                body::RigidBody,\n",
    "                                point::Point3D,\n",
    "                                circle_origin::AbstractVector,\n",
    "                                radius,\n",
    "                                ω)\n",
    "    mechanism = state.mechanism\n",
    "    world = root_frame(mechanism)\n",
    "    joint_path = path(mechanism, root_body(mechanism), body)\n",
    "    point_world = transform(state, point, root_frame(mechanism))\n",
    "    Jp = point_jacobian(state, joint_path, point_world)\n",
    "    v̇ = similar(velocity(state))\n",
    "\n",
    "    function controller!(τ, t, state)\n",
    "        desired = Point3D(world, circle_origin .+ radius .* SVector(sin(t / ω), 0, cos(t / ω)))\n",
    "        point_in_world = transform_to_root(state, body) * point\n",
    "        point_jacobian!(Jp, state, joint_path, point_in_world)\n",
    "        Kp = 200\n",
    "        Kd = 20\n",
    "        Δp = desired - point_in_world\n",
    "        v̇ .= Kp * Array(Jp)' * Δp.v .- 20 .* velocity(state)\n",
    "        τ .= inverse_dynamics(state, v̇)\n",
    "    end\n",
    "end\n",
    "controller! = make_circle_controller(state, body, point, circle_origin, radius, ω)\n",
    "ts, qs, vs = simulate(state, 10, controller!);"
   ]
  },
  {
   "cell_type": "code",
   "execution_count": 44,
   "id": "c422eeee",
   "metadata": {},
   "outputs": [],
   "source": [
    "setanimation!(vis, Animation(vis, ts, qs))"
   ]
  },
  {
   "cell_type": "code",
   "execution_count": null,
   "id": "b81c9a48",
   "metadata": {},
   "outputs": [],
   "source": []
  }
 ],
 "metadata": {
  "kernelspec": {
   "display_name": "Julia 1.6.5",
   "language": "julia",
   "name": "julia-1.6"
  },
  "language_info": {
   "file_extension": ".jl",
   "mimetype": "application/julia",
   "name": "julia",
   "version": "1.6.5"
  }
 },
 "nbformat": 4,
 "nbformat_minor": 5
}
