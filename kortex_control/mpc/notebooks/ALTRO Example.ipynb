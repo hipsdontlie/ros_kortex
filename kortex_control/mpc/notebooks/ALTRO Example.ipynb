{
 "cells": [
  {
   "cell_type": "code",
   "execution_count": 17,
   "id": "f9636650",
   "metadata": {},
   "outputs": [
    {
     "name": "stdout",
     "output_type": "stream",
     "text": [
      "SVector{4, Float64}"
     ]
    }
   ],
   "source": [
    "# Set up problem using TrajectoryOptimization.jl and RobotZoo.jl\n",
    "using TrajectoryOptimization\n",
    "using Altro\n",
    "import RobotZoo.Cartpole\n",
    "using StaticArrays, LinearAlgebra\n",
    "using RobotDynamics\n",
    "\n",
    "# Use the Cartpole model from RobotZoo\n",
    "model = Cartpole()\n",
    "print(typeof(dynamics(model, [0,0,0,0], [0,0])))\n",
    "n,m = size(model)\n",
    "\n",
    "# Define model discretization\n",
    "N = 101\n",
    "tf = 5.\n",
    "dt = tf/(N-1)\n",
    "\n",
    "# Define initial and final conditions\n",
    "x0 = @SVector zeros(n)\n",
    "xf = @SVector [0, pi, 0, 0]  # i.e. swing up\n",
    "\n",
    "# Set up\n",
    "Q = 1.0e-2*Diagonal(@SVector ones(n))\n",
    "Qf = 100.0*Diagonal(@SVector ones(n))\n",
    "R = 1.0e-1*Diagonal(@SVector ones(m))\n",
    "obj = LQRObjective(Q,R,Qf,xf,N)\n",
    "\n",
    "# Add constraints\n",
    "conSet = ConstraintList(n,m,N)\n",
    "u_bnd = 3.0\n",
    "bnd = BoundConstraint(n,m, u_min=-u_bnd, u_max=u_bnd)\n",
    "goal = GoalConstraint(xf)\n",
    "add_constraint!(conSet, bnd, 1:N-1)\n",
    "add_constraint!(conSet, goal, N)\n",
    "\n",
    "# Initialization\n",
    "u0 = @SVector fill(0.01,m)\n",
    "U0 = [u0 for k = 1:N-1]\n",
    "\n",
    "# Define problem\n",
    "prob = Problem(model, obj, xf, tf, x0=x0, constraints=conSet)\n",
    "initial_controls!(prob, U0)"
   ]
  },
  {
   "cell_type": "code",
   "execution_count": 10,
   "id": "22fba4bb",
   "metadata": {},
   "outputs": [
    {
     "name": "stdout",
     "output_type": "stream",
     "text": [
      "Union{Ptr{Nothing}, Base.InterpreterIP}[]\u001b[32;1m\n",
      "SOLVE COMPLETED\n",
      "\u001b[0m solved using the \u001b[0m\u001b[36;1mALTRO\u001b[0m Solver,\n",
      " part of the Altro.jl package developed by the REx Lab at Stanford and Carnegie Mellon Universities\n",
      "\u001b[34;1m\n",
      "  Solve Statistics\n",
      "\u001b[0m    Total Iterations: 13\n",
      "\u001b[0m    Solve Time: 5.325215 (ms)\n",
      "\u001b[34;1m\n",
      "  Covergence\n",
      "\u001b[0m    Terminal Cost: 1.5370131414822565\n",
      "\u001b[0m    Terminal dJ: \u001b[31m0.4410171784000352\n",
      "\u001b[0m    Terminal gradient: \u001b[32m0.007145099487325638\n",
      "\u001b[0m    Terminal constraint violation: \u001b[32m4.157084010358858e-9\n",
      "\u001b[0m    Solve Status: \u001b[1m\u001b[32mSOLVE_SUCCEEDED\n",
      "\u001b[0m"
     ]
    },
    {
     "data": {
      "text/plain": [
       "Dict{Symbol, Vector{T} where T} with 8 entries:\n",
       "  :gradient        => [0.0538406, 0.0402182, 0.0601742, 0.0379797, 0.0551511, 0…\n",
       "  :cost            => [1.54947, 1.54075, 1.53863, 1.54779, 1.60169, 2.17061, 7.…\n",
       "  :iteration_pn    => Bool[0, 0, 0, 0, 0, 0, 0, 0, 0, 0, 0, 0, 1]\n",
       "  :iteration       => [1, 2, 3, 4, 5, 6, 7, 8, 9, 10, 11, 12, 13]\n",
       "  :c_max           => [0.0895919, 0.0895919, 0.00922306, 0.00908885, 0.00901865…\n",
       "  :penalty_max     => [1.0, 1.0, 10.0, 100.0, 1000.0, 10000.0, 10000.0, 10000.0…\n",
       "  :iteration_outer => [1, 1, 2, 3, 4, 5, 5, 5, 6, 6, 6, 7, 7]\n",
       "  :dJ              => [0.00308403, 0.0556398, 0.00211525, 0.000381931, 0.001031…"
      ]
     },
     "execution_count": 10,
     "metadata": {},
     "output_type": "execute_result"
    }
   ],
   "source": [
    "# Solve with ALTRO\n",
    "opts = SolverOptions(\n",
    "    cost_tolerance_intermediate=1e-2,\n",
    "    penalty_scaling=10.,\n",
    "    penalty_initial=1.0\n",
    ")\n",
    "altro = ALTROSolver(prob, opts)\n",
    "print(catch_backtrace())\n",
    "solve!(altro)\n",
    "\n",
    "# Get some info on the solve\n",
    "max_violation(altro)  # 3.42e-9\n",
    "cost(altro)           # 1.55\n",
    "iterations(altro)     # 40\n",
    "\n",
    "# Extract the solution\n",
    "X = states(altro)\n",
    "U = controls(altro)\n",
    "\n",
    "# Extract the solver statistics\n",
    "stats = Altro.stats(altro)  # alternatively, solver.stats\n",
    "stats.iterations             # 40, equivalent to iterations(solver)\n",
    "stats.iterations_outer       # 4 (number of Augmented Lagrangian iterations)\n",
    "stats.iterations_pn          # 1 (number of projected newton iterations)\n",
    "stats.cost[end]              # terminal cost\n",
    "stats.c_max[end]             # terminal constraint satisfaction\n",
    "stats.gradient[end]          # terminal gradient of the Lagrangian\n",
    "dstats = Dict(stats)         # get the per-iteration stats as a dictionary (can be converted to DataFrame)"
   ]
  },
  {
   "cell_type": "code",
   "execution_count": null,
   "id": "631673a4",
   "metadata": {},
   "outputs": [],
   "source": []
  }
 ],
 "metadata": {
  "kernelspec": {
   "display_name": "Julia 1.6.5",
   "language": "julia",
   "name": "julia-1.6"
  },
  "language_info": {
   "file_extension": ".jl",
   "mimetype": "application/julia",
   "name": "julia",
   "version": "1.6.5"
  }
 },
 "nbformat": 4,
 "nbformat_minor": 5
}
