{
 "cells": [
  {
   "cell_type": "code",
   "execution_count": 49,
   "id": "4f6b0465",
   "metadata": {},
   "outputs": [],
   "source": [
    "using RigidBodyDynamics\n",
    "using StaticArrays\n",
    "using MeshCat, MeshCatMechanisms, Blink\n",
    "using Random\n",
    "Random.seed!(42);"
   ]
  },
  {
   "cell_type": "code",
   "execution_count": 50,
   "id": "c9cc3ce5",
   "metadata": {},
   "outputs": [
    {
     "data": {
      "text/plain": [
       "Spanning tree:\n",
       "Vertex: world (root)\n",
       "  Vertex: Shoulder_Link, Edge: Actuator1\n",
       "    Vertex: HalfArm1_Link, Edge: Actuator2\n",
       "      Vertex: HalfArm2_Link, Edge: Actuator3\n",
       "        Vertex: ForeArm_Link, Edge: Actuator4\n",
       "          Vertex: SphericalWrist1_Link, Edge: Actuator5\n",
       "            Vertex: SphericalWrist2_Link, Edge: Actuator6\n",
       "              Vertex: Bracelet_Link, Edge: Actuator7\n",
       "No non-tree joints."
      ]
     },
     "execution_count": 50,
     "metadata": {},
     "output_type": "execute_result"
    }
   ],
   "source": [
    "srcdir = dirname(pathof(RigidBodyDynamics))\n",
    "urdf = \"../../../kortex_description/arms/gen3/7dof/urdf/GEN3_URDF_V12 copy.urdf\"\n",
    "mechanism = parse_urdf(urdf)\n",
    "state = MechanismState(mechanism)\n",
    "mechanism"
   ]
  },
  {
   "cell_type": "code",
   "execution_count": 51,
   "id": "d2ceaf2f",
   "metadata": {},
   "outputs": [
    {
     "data": {
      "text/plain": [
       "Point3D in \"after_Actuator7\": [0.0, 0.0, -0.1]"
      ]
     },
     "execution_count": 51,
     "metadata": {},
     "output_type": "execute_result"
    }
   ],
   "source": [
    "body = findbody(mechanism, \"Bracelet_Link\")\n",
    "point = Point3D(default_frame(body), 0., 0, -0.1)"
   ]
  },
  {
   "cell_type": "code",
   "execution_count": 52,
   "id": "2a4d1a30",
   "metadata": {},
   "outputs": [
    {
     "name": "stderr",
     "output_type": "stream",
     "text": [
      "┌ Info: MeshCat server started. You can open the visualizer by visiting the following URL in your browser:\n",
      "│ http://127.0.0.1:8723\n",
      "└ @ MeshCat /home/amkyu/.julia/packages/MeshCat/Ax8pH/src/visualizer.jl:73\n"
     ]
    },
    {
     "data": {
      "text/plain": [
       "MeshCat Visualizer with path /meshcat/world/Shoulder_Link/HalfArm1_Link/HalfArm2_Link/ForeArm_Link/SphericalWrist1_Link/SphericalWrist2_Link/Bracelet_Link/after_Actuator7/<element> at http://127.0.0.1:8723"
      ]
     },
     "execution_count": 52,
     "metadata": {},
     "output_type": "execute_result"
    }
   ],
   "source": [
    "# Create the visualizer\n",
    "vis = MechanismVisualizer(mechanism, URDFVisuals(urdf))\n",
    "\n",
    "# Render our target point attached to the robot as a sphere with radius 0.07\n",
    "setelement!(vis, point, 0.07)"
   ]
  },
  {
   "cell_type": "code",
   "execution_count": 53,
   "id": "de1307e8",
   "metadata": {},
   "outputs": [
    {
     "name": "stderr",
     "output_type": "stream",
     "text": [
      "┌ Info: MeshCat server started. You can open the visualizer by visiting the following URL in your browser:\n",
      "│ http://127.0.0.1:8724\n",
      "└ @ MeshCat /home/amkyu/.julia/packages/MeshCat/Ax8pH/src/visualizer.jl:73\n"
     ]
    },
    {
     "data": {
      "text/plain": [
       "MechanismVisualizer{MechanismState{Float64, Float64, Float64, TypeSortedCollections.TypeSortedCollection{Tuple{Vector{Joint{Float64, Revolute{Float64}}}}, 1}}, Visualizer}(MechanismState{Float64, Float64, Float64, …}(…), MeshCat Visualizer with path /meshcat at http://127.0.0.1:8724, 11)"
      ]
     },
     "execution_count": 53,
     "metadata": {},
     "output_type": "execute_result"
    }
   ],
   "source": [
    "open(vis, Window());\n",
    "mvis = MechanismVisualizer(mechanism, URDFVisuals(urdf))"
   ]
  },
  {
   "cell_type": "code",
   "execution_count": 54,
   "id": "eec2a2f7",
   "metadata": {},
   "outputs": [
    {
     "data": {
      "text/plain": [
       "jacobian_transpose_ik! (generic function with 1 method)"
      ]
     },
     "execution_count": 54,
     "metadata": {},
     "output_type": "execute_result"
    }
   ],
   "source": [
    "function jacobian_transpose_ik!(state::MechanismState,\n",
    "                               body::RigidBody,\n",
    "                               point::Point3D,\n",
    "                               desired::Point3D;\n",
    "                               α=0.1,\n",
    "                               iterations=100)\n",
    "    mechanism = state.mechanism\n",
    "    world = root_frame(mechanism)\n",
    "\n",
    "    # Compute the joint path from world to our target body\n",
    "    p = path(mechanism, root_body(mechanism), body)\n",
    "    # Allocate the point jacobian (we'll update this in-place later)\n",
    "    Jp = point_jacobian(state, p, transform(state, point, world))\n",
    "\n",
    "    q = copy(configuration(state))\n",
    "\n",
    "    for i in 1:iterations\n",
    "        # Update the position of the point\n",
    "        point_in_world = transform(state, point, world)\n",
    "        # Update the point's jacobian\n",
    "        point_jacobian!(Jp, state, p, point_in_world)\n",
    "        # Compute an update in joint coordinates using the jacobian transpose\n",
    "        Δq = α * Array(Jp)' * (transform(state, desired, world) - point_in_world).v\n",
    "        # Apply the update\n",
    "        q .= configuration(state) .+ Δq\n",
    "        set_configuration!(state, q)\n",
    "    end\n",
    "    state\n",
    "end"
   ]
  },
  {
   "cell_type": "code",
   "execution_count": 55,
   "id": "7bd3d1bd",
   "metadata": {},
   "outputs": [],
   "source": [
    "rand!(state)\n",
    "set_configuration!(vis, configuration(state))"
   ]
  },
  {
   "cell_type": "code",
   "execution_count": 60,
   "id": "88383c93",
   "metadata": {},
   "outputs": [
    {
     "data": {
      "text/plain": [
       "Point3D in \"world\": [0.3, 0.3, 0.5]"
      ]
     },
     "execution_count": 60,
     "metadata": {},
     "output_type": "execute_result"
    }
   ],
   "source": [
    "desired_tip_location = Point3D(root_frame(mechanism), 0.3, 0.3, 0.5)"
   ]
  },
  {
   "cell_type": "code",
   "execution_count": 61,
   "id": "b1eebc8f",
   "metadata": {},
   "outputs": [],
   "source": [
    "jacobian_transpose_ik!(state, body, point, desired_tip_location)\n",
    "set_configuration!(vis, configuration(state))"
   ]
  },
  {
   "cell_type": "code",
   "execution_count": 62,
   "id": "a0e72478",
   "metadata": {},
   "outputs": [
    {
     "data": {
      "text/plain": [
       "Point3D in \"world\": [0.3817078480901187, 0.37894568460683836, 0.5482892291239736]"
      ]
     },
     "execution_count": 62,
     "metadata": {},
     "output_type": "execute_result"
    }
   ],
   "source": [
    "transform(state, point, root_frame(mechanism))"
   ]
  },
  {
   "cell_type": "code",
   "execution_count": 80,
   "id": "b5edcb87",
   "metadata": {},
   "outputs": [
    {
     "data": {
      "text/plain": [
       "SegmentedVector{JointID, Float64, Base.OneTo{JointID}, Vector{Float64}}[]"
      ]
     },
     "execution_count": 80,
     "metadata": {},
     "output_type": "execute_result"
    }
   ],
   "source": [
    "qs = typeof(configuration(state))[]"
   ]
  },
  {
   "cell_type": "code",
   "execution_count": 81,
   "id": "e6eff288",
   "metadata": {},
   "outputs": [
    {
     "data": {
      "text/plain": [
       "100-element Vector{Float64}:\n",
       "  0.0\n",
       "  0.10101010101010101\n",
       "  0.20202020202020202\n",
       "  0.30303030303030304\n",
       "  0.40404040404040403\n",
       "  0.5050505050505051\n",
       "  0.6060606060606061\n",
       "  0.7070707070707071\n",
       "  0.8080808080808081\n",
       "  0.9090909090909091\n",
       "  1.0101010101010102\n",
       "  1.1111111111111112\n",
       "  1.2121212121212122\n",
       "  ⋮\n",
       "  8.88888888888889\n",
       "  8.98989898989899\n",
       "  9.090909090909092\n",
       "  9.191919191919192\n",
       "  9.292929292929292\n",
       "  9.393939393939394\n",
       "  9.494949494949495\n",
       "  9.595959595959595\n",
       "  9.696969696969697\n",
       "  9.797979797979798\n",
       "  9.8989898989899\n",
       " 10.0"
      ]
     },
     "execution_count": 81,
     "metadata": {},
     "output_type": "execute_result"
    }
   ],
   "source": [
    "for x in range(-0.3, stop=0.1, length=100)\n",
    "    desired = Point3D(root_frame(mechanism), x, 0.4, 0.5)\n",
    "    jacobian_transpose_ik!(state, body, point, desired)\n",
    "    push!(qs, copy(configuration(state)))\n",
    "end\n",
    "ts = collect(range(0, stop=10, length=length(qs)))\n"
   ]
  },
  {
   "cell_type": "code",
   "execution_count": 82,
   "id": "d99db900",
   "metadata": {},
   "outputs": [],
   "source": [
    "setanimation!(vis, Animation(vis, ts, qs))"
   ]
  },
  {
   "cell_type": "code",
   "execution_count": null,
   "id": "cf82ba2e",
   "metadata": {},
   "outputs": [],
   "source": []
  },
  {
   "cell_type": "code",
   "execution_count": null,
   "id": "e431fa03",
   "metadata": {},
   "outputs": [],
   "source": []
  }
 ],
 "metadata": {
  "kernelspec": {
   "display_name": "Julia 1.6.5",
   "language": "julia",
   "name": "julia-1.6"
  },
  "language_info": {
   "file_extension": ".jl",
   "mimetype": "application/julia",
   "name": "julia",
   "version": "1.6.5"
  }
 },
 "nbformat": 4,
 "nbformat_minor": 5
}
