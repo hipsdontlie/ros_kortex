{
 "cells": [
  {
   "cell_type": "code",
   "execution_count": 1,
   "id": "93519ab6",
   "metadata": {},
   "outputs": [],
   "source": [
    "using RigidBodyDynamics\n",
    "using StaticArrays\n",
    "using Parameters\n",
    "using RobotDynamics\n",
    "using Rotations\n",
    "using LinearAlgebra\n",
    "using ForwardDiff"
   ]
  },
  {
   "cell_type": "code",
   "execution_count": 12,
   "id": "6338b2db",
   "metadata": {},
   "outputs": [
    {
     "data": {
      "text/plain": [
       "Arthur"
      ]
     },
     "execution_count": 12,
     "metadata": {},
     "output_type": "execute_result"
    }
   ],
   "source": [
    "# Defining Arthur model using RigidBodyDynamics\n",
    "struct Arthur{T} <: AbstractModel\n",
    "    mechanism::T\n",
    "    function Arthur(mechanism)\n",
    "        T = eltype(RigidBodyDynamics.Mechanism)\n",
    "        new{T}(mechanism)\n",
    "    end\n",
    "end\n",
    "\n",
    "#TODO: Change Path\n",
    "Arthur(; mechanism=RigidBodyDynamics.URDF.parse_urdf(\"../../../kortex_description/arms/gen3/7dof/urdf/GEN3_URDF_V12.urdf\", remove_fixed_tree_joints = false)) = Arthur(mechanism)"
   ]
  },
  {
   "cell_type": "code",
   "execution_count": 13,
   "id": "36bed116",
   "metadata": {},
   "outputs": [],
   "source": [
    "# State, s, is [q q̇ x ẋ F]\n",
    "# x will be input from the camera\n",
    "# q, q̇, ẋ will be taken or derived from the arm\n",
    "# F will be input from the F/T Sensor\n",
    "# Input, u, is Torque (τ)\n",
    "function RobotDynamics.dynamics(model::Arthur, s, u)\n",
    "    # Create a state of the mechanism model and a result struct for the dynamics\n",
    "    dynamicsResult = RigidBodyDynamics.DynamicsResult(model.mechanism)\n",
    "    mechanismState = RigidBodyDynamics.MechanismState(model.mechanism)\n",
    "    \n",
    "    # Get states and constants of system not dependent on model state\n",
    "    M = RigidBodyDynamics.mass_matrix(mechanismState)\n",
    "    num_q = RigidBodyDynamics.num_positions(model.mechanism)\n",
    "    q = s[1:num_q]\n",
    "    q̇ = s[num_q+1:2*num_q]\n",
    "    x = s[2*num_q + 1:2*num_q + 6]\n",
    "    ẋ = s[2*num_q + 7:2*num_q + 12]\n",
    "    F = s[2*num_q + 13:2*num_q + 18]\n",
    "    Be = zeros(6, 6)\n",
    "    if (norm(ẋ) > 1e-5)\n",
    "        for k = 1:3\n",
    "            Be[k,k] = norm(F) / norm(ẋ)\n",
    "        end\n",
    "    end\n",
    "    \n",
    "    # Set mechanism state to current state\n",
    "    RigidBodyDynamics.set_configuration!(mechanismState, q)\n",
    "    RigidBodyDynamics.set_velocity!(mechanismState, q̇)\n",
    "    \n",
    "    # Get variables dependent on state\n",
    "    J = getJacobian(model, q, q̇)\n",
    "    τ_ext = transpose(J)*F\n",
    "    \n",
    "    # Calculate dynamics\n",
    "    RigidBodyDynamics.dynamics!(dynamicsResult, mechanismState, u)\n",
    "    # Add the effects of external forces/torques into dynamics\n",
    "    q̈ = M\\((M * dynamicsResult.v̇) - τ_ext)\n",
    "    ẍ = getJ̇(model, q, q̇)*q̇ + J*q̈\n",
    "    Ḟ = Be*ẍ\n",
    "    return [q̇; q̈; ẋ; ẍ; Ḟ]\n",
    "end\n",
    "\n",
    "function getJacobian(model::Arthur, q,  q̇)\n",
    "    mechanismState = RigidBodyDynamics.MechanismState(model.mechanism)\n",
    "    RigidBodyDynamics.set_configuration!(mechanismState, q)\n",
    "    RigidBodyDynamics.set_velocity!(mechanismState, q̇)\n",
    "    p = RigidBodyDynamics.path(model.mechanism, RigidBodyDynamics.root_body(model.mechanism), RigidBodyDynamics.bodies(model.mechanism)[end])\n",
    "    J_data = RigidBodyDynamics.geometric_jacobian(mechanismState, p)\n",
    "#     print(typeof([J_data.linear; J_data.angular]))\n",
    "    return [J_data.linear; J_data.angular]\n",
    "end\n",
    "\n",
    "function getẊ(model::Arthur, q, q̇)\n",
    "    J = getJacobian(model, q, q̇)\n",
    "    ẋ = J*q̇\n",
    "#     print(typeof(ẋ))\n",
    "    return ẋ\n",
    "end\n",
    "\n",
    "function getJ̇(model::Arthur, q, q̇)\n",
    "    return ForwardDiff.jacobian(dq -> getẊ(model, dq, q̇), q)\n",
    "end\n",
    "\n",
    "RobotDynamics.state_dim(::Arthur) = 32\n",
    "RobotDynamics.control_dim(::Arthur) = 7"
   ]
  },
  {
   "cell_type": "code",
   "execution_count": 17,
   "id": "87426b72",
   "metadata": {},
   "outputs": [
    {
     "name": "stdout",
     "output_type": "stream",
     "text": [
      "7\n",
      "\n",
      "RigidBodyDynamics.CustomCollections.IndexDict{BodyID, Base.OneTo{BodyID}, SpatialAcceleration{Float64}}(BodyID(1) => SpatialAcceleration of \"world\" w.r.t \"world\" in \"world\":\n",
      "angular: [0.0, 0.0, 0.0], linear: [0.0, 0.0, 0.0], BodyID(2) => SpatialAcceleration of \"world\" w.r.t \"world\" in \"world\":\n",
      "angular: [0.0, 0.0, 0.0], linear: [0.0, 0.0, 0.0], BodyID(3) => SpatialAcceleration of \"world\" w.r.t \"world\" in \"world\":\n",
      "angular: [0.0, 0.0, 0.0], linear: [0.0, 0.0, 0.0], BodyID(4) => SpatialAcceleration of \"world\" w.r.t \"world\" in \"world\":\n",
      "angular: [0.0, 0.0, 0.0], linear: [0.0, 0.0, 0.0], BodyID(5) => SpatialAcceleration of \"world\" w.r.t \"world\" in \"world\":\n",
      "angular: [0.0, 0.0, 0.0], linear: [0.0, 0.0, 0.0], BodyID(6) => SpatialAcceleration of \"world\" w.r.t \"world\" in \"world\":\n",
      "angular: [0.0, 0.0, 0.0], linear: [0.0, 0.0, 0.0], BodyID(7) => SpatialAcceleration of \"world\" w.r.t \"world\" in \"world\":\n",
      "angular: [0.0, 0.0, 0.0], linear: [0.0, 0.0, 0.0], BodyID(8) => SpatialAcceleration of \"world\" w.r.t \"world\" in \"world\":\n",
      "angular: [0.0, 0.0, 0.0], linear: [0.0, 0.0, 0.0], BodyID(9) => SpatialAcceleration of \"world\" w.r.t \"world\" in \"world\":\n",
      "angular: [0.0, 0.0, 0.0], linear: [0.0, 0.0, 0.0], BodyID(10) => SpatialAcceleration of \"world\" w.r.t \"world\" in \"world\":\n",
      "angular: [0.0, 0.0, 0.0], linear: [0.0, 0.0, 0.0])"
     ]
    }
   ],
   "source": [
    "model = Arthur()\n",
    "print(num_velocities(model.mechanism))\n",
    "print(\"\\n\\n\")\n",
    "dynamicsResult = RigidBodyDynamics.DynamicsResult(model.mechanism)\n",
    "print(dynamicsResult.accelerations)\n",
    "# J1 = getJacobian(model, 0.5*ones(7), 0.2*ones(7))\n",
    "# J2 = getJacobian(model, 0.5*ones(7), 0.1*ones(7))\n",
    "# print(J1-J2)\n",
    "# print(\"\\n\\n\")\n",
    "# ẋ1 = getẊ(model, 0.5*ones(7), 0.2*ones(7))\n",
    "# ẋ2 = getẊ(model, 0.5*ones(7), 0.2*ones(7))\n",
    "# print(ẋ1-ẋ2)\n",
    "# print(\"\\n\\n\")\n",
    "# print(typeof(getẊ(model, J, zeros(7), 0.1*ones(7))))\n",
    "# print(getJ̇(model, 0.5*ones(7), 0.2*ones(7)))\n",
    "# print(typeof(RobotDynamics.dynamics(model, zeros(32), 0.1*ones(7))))"
   ]
  },
  {
   "cell_type": "code",
   "execution_count": null,
   "id": "fc7220b3",
   "metadata": {},
   "outputs": [],
   "source": []
  },
  {
   "cell_type": "code",
   "execution_count": null,
   "id": "b4ab2659",
   "metadata": {},
   "outputs": [],
   "source": []
  }
 ],
 "metadata": {
  "kernelspec": {
   "display_name": "Julia 1.6.5",
   "language": "julia",
   "name": "julia-1.6"
  },
  "language_info": {
   "file_extension": ".jl",
   "mimetype": "application/julia",
   "name": "julia",
   "version": "1.6.5"
  }
 },
 "nbformat": 4,
 "nbformat_minor": 5
}
