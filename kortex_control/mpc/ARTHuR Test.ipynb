{
 "cells": [
  {
   "cell_type": "code",
   "execution_count": 59,
   "id": "93519ab6",
   "metadata": {},
   "outputs": [],
   "source": [
    "# All imports\n",
    "import RobotDynamics\n",
    "import RigidBodyDynamics\n",
    "import Random\n",
    "Random.seed!(1);\n",
    "using LinearAlgebra\n",
    "# using StaticArrays"
   ]
  },
  {
   "cell_type": "code",
   "execution_count": 60,
   "id": "5678cc92",
   "metadata": {},
   "outputs": [
    {
     "data": {
      "text/plain": [
       "MechanismState{Float64, Float64, Float64, …}(…)"
      ]
     },
     "execution_count": 60,
     "metadata": {},
     "output_type": "execute_result"
    }
   ],
   "source": [
    "# Defining Mechanism and MechanismState for RigidBodyDynamics\n",
    "Arthur = RigidBodyDynamics.URDF.parse_urdf(\"/home/amkyu/catkin_workspace/src/ros_kortex/kortex_description/arms/gen3/7dof/urdf/GEN3_URDF_V12.urdf\")\n",
    "ArthurState = RigidBodyDynamics.MechanismState(Arthur)"
   ]
  },
  {
   "cell_type": "code",
   "execution_count": 69,
   "id": "02f997f2",
   "metadata": {},
   "outputs": [
    {
     "name": "stdout",
     "output_type": "stream",
     "text": [
      "[0.10283157795639708, 0.6704205825614975, 0.7554152239466787, 0.6490562651461806, 0.6604003260599425, 0.9062106456676113, 0.27541564882559744]\n",
      "\n",
      "[-1.1491989486252564e-6 -0.2623895342574835 0.04781026847113355 -0.5868413906024228 -0.3103839579883502 -0.42560534635440916 0.5512066015398971; -4.322004469883372e-19 0.11076316920697019 0.08484310577283624 0.3459158024462122 -0.5515387929749732 0.6494741237986119 -0.029141751582740474; 0.0 3.667859762314894e-7 0.0039923389947176015 -0.14025181822883132 -0.03774641112150598 0.11189601597424628 -0.05022469789688772; -2.7628999999254435e-18 0.38890193999522765 0.3129849338346425 0.49935486041262506 -0.6881189315162038 0.7138114029649424 -0.10464329136319034; 7.346410206643587e-6 0.9212791547402597 -0.1321144630690906 0.865246914805559 0.42737668002561724 0.5437984668542785 -0.5402557221721582; -0.9999999999730151 1.0441299689179076e-5 -0.9405244280934388 0.04463742602064711 -0.5863800043139935 -0.44131225730105883 -0.8349691828043223]\n",
      "\n",
      "[-0.9595427781210459, 0.579166372901088, -0.025374250849853827, 0.9848799753759453, 1.7056786956593217, -1.8014698392534756]\n",
      "\n",
      "[0.36446578895764425 0.0 0.0 0.0 0.0 0.0; 0.0 0.36446578895764425 0.0 0.0 0.0 0.0; 0.0 0.0 0.36446578895764425 0.0 0.0 0.0; 0.0 0.0 0.0 0.0 0.0 0.0; 0.0 0.0 0.0 0.0 0.0 0.0; 0.0 0.0 0.0 0.0 0.0 0.0]\n",
      "\n",
      "[0.3994394061296323, -0.34662848289604303, 0.13174261149628444, 1.2873446803519781, 0.6312912597626849, -1.2337261440146907, -0.8585845030636355, 0.10283157795639708, 0.6704205825614975, 0.7554152239466787, 0.6490562651461806, 0.6604003260599425, 0.9062106456676113, 0.27541564882559744, 0.36446578895764425, 0.36446578895764425, 0.36446578895764425, 0.0, 0.0, 0.0]\n",
      "\n",
      "[0.0008699256330506812, 0.00014164408841125243, 0.0009701070250645898, 0.000873156688334914, 0.00023433763208045532, 0.0007720151675814207, 0.0005854341721336284]"
     ]
    }
   ],
   "source": [
    "# TODO: Change later!!!\n",
    "# Randomizing joint state (position and velocity), and randomizing input torques\n",
    "Random.rand!(ArthurState)\n",
    "torques = Random.rand!(zeros(7))/1000\n",
    "# External Force measurement\n",
    "# Newtons [Fx, Fy, Fz, Mx, My, Mz]\n",
    "# Only Mz is non-zero since all forces are applied directly to the reamer hemisphere\n",
    "Fe = zeros(6) \n",
    "Fe[1:3] = Random.rand(3)\n",
    "p = RigidBodyDynamics.path(Arthur, RigidBodyDynamics.root_body(Arthur), RigidBodyDynamics.bodies(Arthur)[end])\n",
    "J_data = RigidBodyDynamics.geometric_jacobian(ArthurState, p)\n",
    "J = [J_data.linear; J_data.angular]\n",
    "q̇ = RigidBodyDynamics.velocity(ArthurState)\n",
    "ẋ = J*q̇\n",
    "Be = zeros(6, 6)\n",
    "for k = 1:3\n",
    "    Be[k,k] = norm(Fe) / norm(ẋ)\n",
    "end\n",
    "\n",
    "# Combine joint position and velocities into a collective state vector\n",
    "s = [RigidBodyDynamics.configuration(ArthurState)[:]; RigidBodyDynamics.velocity(ArthurState)[:]; diag(Be)]\n",
    "\n",
    "\n",
    "# See state and torques\n",
    "print(q̇)\n",
    "print(\"\\n\\n\")\n",
    "print(J)\n",
    "print(\"\\n\\n\")\n",
    "print(ẋ)\n",
    "print(\"\\n\\n\")\n",
    "print(Be)\n",
    "print(\"\\n\\n\")\n",
    "print(s)\n",
    "print(\"\\n\\n\")\n",
    "print(torques)"
   ]
  },
  {
   "cell_type": "code",
   "execution_count": 82,
   "id": "14fb2420",
   "metadata": {},
   "outputs": [],
   "source": [
    "## Dynamics Function\n",
    "# model is the parsed URDF of the robotic arm\n",
    "# x is joint position, velocity, and the B_External constants (6 for each DOF in Cartesian Space)\n",
    "# u is joint torques\n",
    "\n",
    "function RobotDynamics.dynamics(model::RigidBodyDynamics.Mechanism, x, u)\n",
    "    dynamicsResult = RigidBodyDynamics.DynamicsResult(model)\n",
    "    mechanismState = RigidBodyDynamics.MechanismState(model)\n",
    "    M = RigidBodyDynamics.mass_matrix(mechanismState)\n",
    "    num_q = RigidBodyDynamics.num_positions(model)\n",
    "    q = x[1:num_q]\n",
    "    qd = x[num_q+1:2*num_q]\n",
    "    Be = diagm(x[end-5:end])\n",
    "    p = RigidBodyDynamics.path(Arthur, RigidBodyDynamics.root_body(Arthur), RigidBodyDynamics.bodies(Arthur)[end])\n",
    "    J_data = RigidBodyDynamics.geometric_jacobian(ArthurState, p)\n",
    "    J = [J_data.linear; J_data.angular]\n",
    "    q̇ = RigidBodyDynamics.velocity(ArthurState)\n",
    "    ẋ = J*q̇\n",
    "    τ_ext = transpose(J)*Be*ẋ\n",
    "    RigidBodyDynamics.set_configuration!(mechanismState, q)\n",
    "    RigidBodyDynamics.set_velocity!(mechanismState, qd)\n",
    "    RigidBodyDynamics.dynamics!(dynamicsResult, mechanismState, u)\n",
    "    qdd = M\\((M * dynamicsResult.v̇) - τ_ext)\n",
    "    return [qd; qdd; 0; 0; 0; 0; 0; 0]\n",
    "end\n",
    "\n",
    "RobotDynamics.state_dim(::Cartpole) = 4\n",
    "RobotDynamics.control_dim(::Cartpole) = 1"
   ]
  },
  {
   "cell_type": "code",
   "execution_count": 83,
   "id": "b93de645",
   "metadata": {},
   "outputs": [
    {
     "name": "stdout",
     "output_type": "stream",
     "text": [
      "[0.10283157795639708, 0.6704205825614975, 0.7554152239466787, 0.6490562651461806, 0.6604003260599425, 0.9062106456676113, 0.27541564882559744, 0.16313006186371126, -10.06332677956533, -3.3746019310993063, 47.62136703656684, -252.50596682139314, -108.66567582087993, 608.0082841480627, 0.0, 0.0, 0.0, 0.0, 0.0, 0.0]"
     ]
    }
   ],
   "source": [
    "print(RobotDynamics.dynamics(Arthur, s, torques))"
   ]
  },
  {
   "cell_type": "code",
   "execution_count": null,
   "id": "f4218a84",
   "metadata": {},
   "outputs": [],
   "source": []
  }
 ],
 "metadata": {
  "kernelspec": {
   "display_name": "Julia 1.6.5",
   "language": "julia",
   "name": "julia-1.6"
  },
  "language_info": {
   "file_extension": ".jl",
   "mimetype": "application/julia",
   "name": "julia",
   "version": "1.6.5"
  }
 },
 "nbformat": 4,
 "nbformat_minor": 5
}
